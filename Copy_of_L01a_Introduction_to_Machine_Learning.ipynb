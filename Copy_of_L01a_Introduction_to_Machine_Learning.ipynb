{
  "cells": [
    {
      "cell_type": "markdown",
      "metadata": {
        "id": "view-in-github",
        "colab_type": "text"
      },
      "source": [
        "<a href=\"https://colab.research.google.com/github/MTalebi/FEMU-for-Damage-Detection-in-3DBuilding-using-PSO-OAPI-in-SAP2000/blob/main/Copy_of_L01a_Introduction_to_Machine_Learning.ipynb\" target=\"_parent\"><img src=\"https://colab.research.google.com/assets/colab-badge.svg\" alt=\"Open In Colab\"/></a>"
      ]
    },
    {
      "cell_type": "markdown",
      "source": [
        "<a href=\"https://colab.research.google.com/github/arminnorouzi/machine_learning_course_UofA_MECE610/blob/main/L01_Introduction_to_Machine_Learning/L01a_Introduction_to-Machine_Learning.ipynb\" target=\"_parent\"><img src=\"https://colab.research.google.com/assets/colab-badge.svg\" alt=\"Open In Colab\"/></a>"
      ],
      "metadata": {
        "id": "jLyKoUyGIxdp"
      }
    },
    {
      "cell_type": "markdown",
      "metadata": {
        "id": "nihiBdwKFsbR"
      },
      "source": [
        "# L01a- Introduction to Machine Learning\n",
        "\n",
        "   - Developed by **Armin Norouzi**\n",
        "   - Compatible with Google Colaboratory\n",
        "\n",
        "\n",
        "**Table of Contents:**\n",
        "1.  Machine Learning Background\n",
        "2.  Linear regression\n",
        "3.  Ridge and Lasso regression\n",
        "4.  Logistic regression - classification\n",
        "5.  Unsupervised Learning - k-means algorithm\n",
        "\n",
        "\n"
      ]
    },
    {
      "cell_type": "markdown",
      "metadata": {
        "id": "onBZfBy1nCp0"
      },
      "source": [
        "## Machine Learning Background"
      ]
    },
    {
      "cell_type": "markdown",
      "metadata": {
        "id": "9uR4_ZD8nnFB"
      },
      "source": [
        "### Machine Learning definition\n",
        "\n",
        "Machine learning (ML) is the study of computer algorithms that can improve themselves automatically as a result of experience and data consumption. It is considered to be a component of artificial intelligence. Machine learning algorithms construct a model from sample data, referred to as training data, in order to generate predictions or judgments without explicitly programming them to do so. Machine learning algorithms are utilised in a broad variety of applications, including medicine, email filtering, speech recognition, and computer vision, where developing traditional algorithms to do the required tasks is difficult or impossible.\n",
        "\n",
        "In general, ML can be divided into three main categories: \n",
        "1. **Supervised learning:** Supervised learning algorithms build a mathematical model of a set of data that contains both the inputs and the desired outputs.\n",
        "2. **Unsupervised learning:** Unsupervised learning algorithms take a set of data that contains only inputs, and find structure in the data, like grouping or clustering of data points. The algorithms, therefore, learn from test data that has not been labeled, classified or categorized.\n",
        "3. **Reinforcement Learning (RL):** Reinforcement learning is an area of machine learning concerned with how software agents ought to take actions in an environment so as to maximize some notion of cumulative reward."
      ]
    },
    {
      "cell_type": "markdown",
      "metadata": {
        "id": "gra4I13KoRd9"
      },
      "source": [
        "### Feature Engineering\n",
        "\n",
        "\n",
        "Feature engineering is a type of machine learning technique that makes use of data to generate new variables that are not included in the training set. It is capable of generating novel features for both supervised and unsupervised learning, with the goal of simplifying and speeding up data transformations while also improving model accuracy. When working with machine learning models, feature engineering is essential. Whatever the data or architecture, a suboptimal feature will have a direct effect on your model.\n",
        "\n",
        "\n",
        "1. **Imputation**\n",
        "\n",
        "When it comes to prepping data for machine learning, one of the most common concerns is missing values. Missing values can be caused by a variety of circumstances, including human mistake, data flow interruptions, privacy problems, and others. For whatever reason, missing values degrade the performance of machine learning models. Imputation's primary objective is to deal with missing values. \n",
        "\n",
        "2. **Handling Outliers**\n",
        "\n",
        "\n",
        "Outlier handling is a statistical strategy for identifying and eliminating outliers from a dataset. This strategy can be applied at many scales to generate a more accurate depiction of data. This has an effect on the performance of the model. The effect can be large or little, depending on the model; for example, linear regression is extremely susceptible to outliers. This method should be carried out prior to the start of model training. Among the several strategies for dealing with outliers are the following:\n",
        "\n",
        "**Removal:** Outlier-containing entries are deleted from the distribution. However, if there are outliers across numerous variables, this strategy may result in a big chunk of the datasheet being missed.\n",
        "\n",
        "**Replacing values:** Alternatively, the outliers could be handled as missing values and replaced with suitable imputation.\n",
        "\n",
        "**Capping:** Using an arbitrary value or a value from a variable distribution to replace the maximum and minimum values.\n",
        "\n",
        "\n",
        "\n",
        "3. **Log Transform**\n",
        "\n",
        "\n",
        "Log Transform is the most used technique among data scientists. It is mostly used to turn a skewed distribution into a normal or less-skewed distribution. \n",
        "\n",
        "$ (x,y) ⇒ (\\log(x),\\log(y))\n",
        "\n",
        "\n",
        "4. **One-hot encoding**\n",
        "\n",
        "\n",
        "A one-hot encoding is a sort of encoding in which each element of a finite set is represented by its index, with just one element having its index set to \"1\" and the remaining elements having indices between [0, n-1]. In contrast to binary encoding systems, which allow for the representation of two values (i.e. 0 and 1) per bit, this technique assigns a unique value to each feasible situation.\n",
        "\n",
        "\n",
        "5. **Scaling**\n",
        "\n",
        "\n",
        "Scaling features is a common and challenging topic in machine learning, but it is critical to get right. To train a predictive model, we want data with a well-defined collection of features that can be scaled up or down as necessary.\n",
        "\n",
        "**Normalization:** All values are scaled in a specified range between 0 and 1 via normalisation (or min-max normalisation). This modification has no influence on the feature’s distribution, however it does exacerbate the effects of outliers due to lower standard deviations. As a result, it is advised that outliers be dealt with prior to normalisation.\n",
        "$ {y} $\n",
        "\n",
        "$ x_n = \\frac{x- x_{min}}{x_{max}-x_{min}} $\n",
        "\n",
        "**Standardization:** Standardization (also known as z-score normalisation) is the process of scaling values while accounting for standard deviation $\\sigma$ . If the standard deviation of features differs, the range of those features will likewise differ. The effect of outliers in the characteristics is reduced as a result. To arrive at a distribution with a 0 mean $\\mu$ and 1 variance, all the data points are subtracted by their mean and the result divided by the distribution’s variance.\n",
        "\n",
        "$ x_s = \\frac{x- \\mu}{\\sigma} $"
      ]
    },
    {
      "cell_type": "markdown",
      "metadata": {
        "id": "5rqBYwLcoUur"
      },
      "source": [
        "### Tunning model:Bias and Variance trade-off\n",
        "\n",
        "It is critical to understand prediction errors whenever we discuss model prediction (bias and variance). Between the ability of a model to minimise bias and variance, there is a trade-off. Accurately understanding these flaws will aid us in not just developing accurate models but also in avoiding the errors of overfitting and underfitting.\n",
        "\n",
        "1. **Bias:** Bias is the variance between our model's average forecast and the actual value we are attempting to predict. A model with a large bias ignores the training data and oversimplifies the model. It always results in a high level of inaccuracy on both training and test data.\n",
        "\n",
        "\n",
        "2. **Variance:** The variance of a model prediction for a given data point or value indicates the spread of our data. A model with a large variance pays close attention to training data and does not generalise to new input. As a result, while these models perform admirably on training data, they exhibit substantial error rates on test data.\n",
        "\n",
        "\n",
        "Underfitting occurs in supervised learning when a model is unable to grasp the underlying pattern of the data. These models typically exhibit a high degree of bias and a low degree of variance. This occurs when there is insufficient data to develop an appropriate model or when we attempt to build a linear model using nonlinear data. Additionally, certain types of models, such as linear and logistic regression, are extremely simple to use for capturing complicated patterns in data.\n",
        "\n",
        "Overfitting occurs in supervised learning when our model catches both the noise and the underlying pattern in the data. This occurs when we train our model extensively over a noisy dataset. These models have a little bias but a large variance. These are extremely sophisticated models, similar to decision trees, and are prone to overfitting.\n",
        "\n",
        "![picture](https://github.com/arminnorouzi/machine_learning_course_UofA_MECE610/blob/main/L01_Introduction_to_Machine_Learning/figures/over_underfit.PNG?raw=true)\n",
        "\n",
        "**Why is Bias Variance Tradeoff?**\n",
        "\n",
        "If our model is oversimplified and contains a small number of parameters, it may have a high bias and a low variance. On the other hand, if our model contains a big number of parameters, it will exhibit a high degree of variance and a low degree of bias. Thus, we must strike a balance between overfitting and underfitting the data. This complexity trade-off is the reason for the trade-off between bias and variation. An algorithm cannot be both more and less complex. A model with an ideal balance of bias and variance will never be over- or under-fit.\n",
        "\n",
        "\n",
        "![picture](https://github.com/arminnorouzi/machine_learning_course_UofA_MECE610/blob/main/L01_Introduction_to_Machine_Learning/figures/1_oO0KYF7Z84nePqfsJ9E0WQ.png?raw=true)"
      ]
    },
    {
      "cell_type": "markdown",
      "metadata": {
        "id": "GXg-3cLmFsbW"
      },
      "source": [
        "## Linear regression\n",
        "\n"
      ]
    },
    {
      "cell_type": "markdown",
      "metadata": {
        "id": "R6e76iecFsbW"
      },
      "source": [
        "### Least Squares Linear Regression\n",
        "\n"
      ]
    },
    {
      "cell_type": "markdown",
      "metadata": {
        "id": "ig0YihwpFsbX"
      },
      "source": [
        "-   should be a review\n",
        "-   highlight concepts in:\n",
        "    -   **frequentist statistics::** in which model parameters are assumed fixed and we do not specify prior beliefs over these parameters\n",
        "    -   **Bayesian statistics::** which focuses on computing the posterior belief over model parameters given a prior\n",
        "\n"
      ]
    },
    {
      "cell_type": "markdown",
      "metadata": {
        "id": "_f0oPZQHFsbY"
      },
      "source": [
        "### Linear regression\n",
        "\n"
      ]
    },
    {
      "cell_type": "markdown",
      "metadata": {
        "id": "4PumoqZTFsbY"
      },
      "source": [
        "-   regression with linear functions as:\n",
        "\n",
        "\\begin{equation}\n",
        "    \\hat{y} = f( \\mathbf{x}) =  \\mathbf{\\theta}^T  \\mathbf{x}.\n",
        "\\end{equation}\n",
        "\n",
        "-   where $ \\mathbf{\\theta}$ are the parameters of the model.\n",
        "-   Note that the linear function above has an intercept at zero - there is no offset term.\n",
        "-   assume throughout for linear regression that the input vector is augmented with a $1$, so that\n",
        "\n",
        "\\begin{equation}\n",
        "    \\hat{y} = \\theta_0 +  \\mathbf{\\theta}^T  \\mathbf{x} =\n",
        "    \\begin{bmatrix}\n",
        "    \\theta_0 &  \\mathbf{\\theta}^T\n",
        "    \\end{bmatrix}\n",
        "    \\begin{bmatrix}\n",
        "    1\\\\\n",
        "     \\mathbf{x}\n",
        "    \\end{bmatrix}.\n",
        "\\end{equation}\n",
        "\n",
        "Thus when we write $ \\mathbf{x}$, simply imagine the input augmented with a 1 at the first entry. \n",
        "\n"
      ]
    },
    {
      "cell_type": "markdown",
      "metadata": {
        "id": "g0m4IHtuFsbZ"
      },
      "source": [
        "**Using Mean Squared Error (MSE) loss**\n",
        "\n",
        "-   the Mean Squared Error} (MSE) cost function is:\n",
        "\n",
        "\\begin{equation}\n",
        "    J(\\theta) = \\frac{1}{d}\\sum_{i=1}^{d} \\left( y_i - \\hat{y} \\right)^2.\n",
        "\\end{equation}\n",
        "\n",
        "-   this is the most common loss function in regression problems due to several favorable properties\n",
        "-   minimizing this loss encodes the objective of minimizing the squared error in our prediction.\n",
        "-   Given our linear model parameterization and this loss function, we can now fully specify our regression problem as:\n",
        "\n",
        "\\begin{equation}\n",
        "\\begin{split}\n",
        "& \\underset{ \\mathbf{\\theta}}{\\min}\n",
        "& & \\frac{1}{d}\\sum_{i=1}^{d} \\left( y_i -  \\mathbf{\\theta}^T  \\mathbf{x}_i \\right)^2\n",
        "\\end{split}\n",
        "\\end{equation}\n",
        "\n",
        "-   rewrite as\n",
        "\n",
        "\\begin{equation}\n",
        "\\begin{split}\n",
        "& \\underset{ \\mathbf{\\theta}}{\\min}\n",
        "& & \\left\\|  \\mathbf{y} - X  \\mathbf{\\theta} \\right\\|_2^2\n",
        "\\end{split}\n",
        "\\end{equation}\n",
        "\n",
        "-   have multiplied the objective by $d$ to simplify notation\n",
        "-   where $  \\mathbf{y}^T = [y_1, \\ldots, y_d]$ and$X^T = [ \\mathbf{x}_1, \\ldots,  \\mathbf{x}_d]$\n",
        "    -   The matrix $ X^T $ is typically referred to as the \\textit{design matrix}.\n",
        "\n"
      ]
    },
    {
      "cell_type": "markdown",
      "metadata": {
        "id": "R72lGi0-FsbZ"
      },
      "source": [
        "**Solve by setting the gradient to zero:**\n",
        "\n"
      ]
    },
    {
      "cell_type": "markdown",
      "metadata": {
        "id": "RtyHnai3Fsba"
      },
      "source": [
        "-   Eq \\ref{eq:least_squares} that this loss is convex in the model parameters and is differentiable with continuous derivative (in class $C^1$).\n",
        "-   know any point satisfying the first order necessary conditions for optimality is a global minimizer.\n",
        "-   to solve this problem compute the gradient as:\n",
        "\n",
        "\\begin{align}\n",
        "    \\nabla_{ \\mathbf{\\theta}}\\left\\|  \\mathbf{y} - X  \\mathbf{\\theta} \\right\\|_2^2 = 2X^T X  \\mathbf{\\theta} - 2 X^T  \\mathbf{y}\n",
        "    \\label{eq:LS_grad}\n",
        "\\end{align}\n",
        "\n",
        "-   then set the gradient to zero, resulting in:\n",
        "\n",
        "\\begin{equation}\n",
        "    X^T X  \\mathbf{\\theta} = X^T  \\mathbf{y}.\n",
        "    \\label{eq:LS_grad2}\n",
        "\\end{equation}\n",
        "\n",
        "-   If $X^T X$ is invertible then the optimal set of parameters is\n",
        "\n",
        "\\begin{equation}\n",
        "    \\hat{ \\mathbf{\\theta}} = (X^T X)^{-1} X^T  \\mathbf{y}.\n",
        "    \\label{eq:norm_eq}\n",
        "\\end{equation}\n",
        "\n",
        "We will write the set of parameters that solve the least squares problem in the overdetermined form (as above) as $\\hat{ \\mathbf{\\theta}}_{LS}$. \n",
        "\n"
      ]
    },
    {
      "cell_type": "markdown",
      "metadata": {
        "id": "sIB-kIFqFsba"
      },
      "source": [
        "**When is \\(X^T X\\) invertible?**\n",
        "\n"
      ]
    },
    {
      "cell_type": "markdown",
      "metadata": {
        "id": "nPwy4shdFsba"
      },
      "source": [
        "\\begin{equation}\n",
        "    X^T X = \\sum_{i=1}^{d}  \\mathbf{x}_i  \\mathbf{x}_i^T.\n",
        "\\end{equation}\n",
        "\n",
        "-   Let $n$ denote the dimension of the input.\n",
        "-   Then, we require $d > n$ for $X^T X$ to be full rank.\n",
        "-   However, at least $n$ input is not a sufficient condition for $X^T X$ to be full rank;\n",
        "    -   we also require at least $n$ linearly independent inputs.\n",
        "\n"
      ]
    },
    {
      "cell_type": "markdown",
      "metadata": {
        "id": "Z_Hw26qYFsba"
      },
      "source": [
        "### Example Normal Equations: Diesel Engine\n",
        "\n"
      ]
    },
    {
      "cell_type": "markdown",
      "metadata": {
        "id": "rXfmhAZPFsbc"
      },
      "source": [
        "In this example, the Engine NOx model is modeled using different features\n",
        "\n"
      ]
    },
    {
      "cell_type": "code",
      "execution_count": null,
      "metadata": {
        "id": "plmX2CKOFsbc"
      },
      "outputs": [],
      "source": [
        "# Python setup and load libraries\n",
        "\n",
        "import pandas as pd\n",
        "import numpy as np\n",
        "import math\n",
        "import operator\n",
        "import matplotlib.pyplot as plt\n",
        "get_ipython().run_line_magic('matplotlib', 'inline')"
      ]
    },
    {
      "cell_type": "markdown",
      "metadata": {
        "id": "AHzmQ9u-Fsbd"
      },
      "source": [
        "**Setup an array to store**\n",
        "\n"
      ]
    },
    {
      "cell_type": "markdown",
      "metadata": {
        "id": "MkTQ54XjFsbd"
      },
      "source": [
        "-   the parameter vector $\\theta$\n",
        "-   the columns are $\\theta = [ \\theta_0  \\theta_1  \\theta_2  \\theta_3  \\theta_4]^T $\n",
        "\n"
      ]
    },
    {
      "cell_type": "code",
      "execution_count": null,
      "metadata": {
        "id": "uHE8jB9_Fsbe"
      },
      "outputs": [],
      "source": [
        "# max number of parameters\n",
        "ntheta = 5\n",
        "# maximum number of cases\n",
        "ncases = 10\n",
        "# counter for case number\n",
        "nc = 0\n",
        "# create the array of theta's\n",
        "thetav = np.zeros((ncases, ntheta))"
      ]
    },
    {
      "cell_type": "markdown",
      "metadata": {
        "id": "w9w44YYLFsbe"
      },
      "source": [
        "**Setup an array to store errors**\n",
        "\n"
      ]
    },
    {
      "cell_type": "markdown",
      "metadata": {
        "id": "2nuhBFFFFsbe"
      },
      "source": [
        "-   the error vector is; MAE, MSE, R2, lambda\n",
        "-   set $\\lambda = 0$ for normal regression and use for Ridge or Lasso\n",
        "\n"
      ]
    },
    {
      "cell_type": "code",
      "execution_count": null,
      "metadata": {
        "id": "6F8TY48DFsbe"
      },
      "outputs": [],
      "source": [
        "nerr = 4\n",
        "errv = np.zeros((ncases, nerr))"
      ]
    },
    {
      "cell_type": "markdown",
      "metadata": {
        "id": "nekiP8HqFsbe"
      },
      "source": [
        "**Import Engine Data**\n",
        "\n"
      ]
    },
    {
      "cell_type": "markdown",
      "metadata": {
        "id": "IAK_qM5kFsbf"
      },
      "source": [
        "Stationary Diesel engine data with\n",
        "\n",
        "| Load [ft.lb]|Engine speed [rpm]|mf [mg/stroke]|Pr [PSI]|NOx [ppm]|\n",
        "\n"
      ]
    },
    {
      "cell_type": "code",
      "execution_count": null,
      "metadata": {
        "id": "K6c3nR3LPlOc"
      },
      "outputs": [],
      "source": [
        "data = pd.read_csv('https://raw.githubusercontent.com/arminnorouzi/ML-developed_course/main/Data/Engine_NOx.csv') #Set with your directory\n",
        "data.head()"
      ]
    },
    {
      "cell_type": "markdown",
      "metadata": {
        "id": "Kv5UVFY7Fsbf"
      },
      "source": [
        "**Plot NOx as a function of load to look at the data**\n",
        "\n"
      ]
    },
    {
      "cell_type": "markdown",
      "metadata": {
        "id": "3vQ9RgbPFsbg"
      },
      "source": [
        "-   the one \\`feature' here is Load (and a constant)\n",
        "-   so later will fit NOx = $\\text{load}\\theta_1 + \\theta_0 $\n",
        "\n"
      ]
    },
    {
      "cell_type": "code",
      "execution_count": null,
      "metadata": {
        "colab": {
          "base_uri": "https://localhost:8080/",
          "height": 279
        },
        "id": "Qtb26LruFsbg",
        "outputId": "8ba15baa-9e6f-44d3-98f2-8206c0e8ba70"
      },
      "outputs": [
        {
          "output_type": "display_data",
          "data": {
            "text/plain": [
              "<Figure size 432x288 with 1 Axes>"
            ],
            "image/png": "[encoded data removed]"
          },
          "metadata": {
            "needs_background": "light"
          }
        }
      ],
      "source": [
        "plt.scatter(data['Load [ft.lb]'], data['NOx [ppm]'],  color='blue')\n",
        "plt.xlabel(\"Load [ft.lb]\")\n",
        "plt.ylabel(\"NOx [ppm]\")\n",
        "plt.show()"
      ]
    },
    {
      "cell_type": "markdown",
      "metadata": {
        "id": "MMzJ0V9oFsbg"
      },
      "source": [
        "**Split the data in training and test data**\n",
        "\n"
      ]
    },
    {
      "cell_type": "markdown",
      "metadata": {
        "id": "gqYb8xHvFsbg"
      },
      "source": [
        "-   usually you want to validate your fit on data that was not used to fit the data\n",
        "-   here randomly select 80% of the data for fitting (training) - the 80% is arbitrarily selected\n",
        "-   the remaining 20% will be used to validate (test data)\n",
        "\n"
      ]
    },
    {
      "cell_type": "code",
      "execution_count": null,
      "metadata": {
        "id": "k8vn6zEXFsbg"
      },
      "outputs": [],
      "source": [
        "cdf = data[['Load [ft.lb]','Engine speed [rpm]','mf [mg/stroke]','Pr [PSI]', 'NOx [ppm]']]\n",
        "\n",
        "msk = np.random.rand(len(data)) < 0.8\n",
        "train = cdf[msk]\n",
        "test = cdf[~msk]"
      ]
    },
    {
      "cell_type": "markdown",
      "metadata": {
        "id": "7SXFiurgFsbg"
      },
      "source": [
        "**Plot the test and training data**\n",
        "\n"
      ]
    },
    {
      "cell_type": "code",
      "execution_count": null,
      "metadata": {
        "colab": {
          "base_uri": "https://localhost:8080/",
          "height": 279
        },
        "id": "fqeQX5DCFsbg",
        "outputId": "2c9b2000-7ecf-40e9-c8fa-3304830cec60"
      },
      "outputs": [
        {
          "output_type": "display_data",
          "data": {
            "text/plain": [
              "<Figure size 432x288 with 1 Axes>"
            ],
            "image/png": "[encoded data removed]"
          },
          "metadata": {
            "needs_background": "light"
          }
        }
      ],
      "source": [
        "plt.scatter(train['Load [ft.lb]'], train['NOx [ppm]'],  color='blue')\n",
        "plt.scatter(test['Load [ft.lb]'], test['NOx [ppm]'],  color='red')\n",
        "plt.xlabel(\"Load [ft.lb]\")\n",
        "plt.ylabel(\"NOx [ppm]\")\n",
        "plt.show()"
      ]
    },
    {
      "cell_type": "markdown",
      "metadata": {
        "id": "mvwsOaqBFsbh"
      },
      "source": [
        "**Prepare the data for sklearn**\n",
        "\n"
      ]
    },
    {
      "cell_type": "markdown",
      "metadata": {
        "id": "KyGRBEkFFsbh"
      },
      "source": [
        "-   sklearn is a python library for Machine Learning\n",
        "-   divide into test and train and set min and max: $\\frac{x-\\min(x)}{\\max(x) - \\min(x)}$\n",
        "\n"
      ]
    },
    {
      "cell_type": "code",
      "execution_count": null,
      "metadata": {
        "id": "Wn1DoIBNFsbh"
      },
      "outputs": [],
      "source": [
        "from sklearn import preprocessing\n",
        "\n",
        "train_x = np.asanyarray(train[['Load [ft.lb]']])\n",
        "train_y = np.asanyarray(train[['NOx [ppm]']])\n",
        "\n",
        "test_x = np.asanyarray(test[['Load [ft.lb]']])\n",
        "test_y = np.asanyarray(test[['NOx [ppm]']])\n",
        "\n",
        "\n",
        "min_max_scaler = preprocessing.MinMaxScaler()\n",
        "X_train_minmax = min_max_scaler.fit_transform(train_x)\n",
        "X_test_minmax = min_max_scaler.transform(test_x)"
      ]
    },
    {
      "cell_type": "markdown",
      "metadata": {
        "id": "TaSdMan5Fsbh"
      },
      "source": [
        "**Preparing data for normal equation**\n",
        "\n"
      ]
    },
    {
      "cell_type": "markdown",
      "metadata": {
        "id": "lOeOG-ACFsbh"
      },
      "source": [
        "-   set up $X$ to be a constant (ones) and Load, while $y$ is NOx\n",
        "\n"
      ]
    },
    {
      "cell_type": "code",
      "execution_count": null,
      "metadata": {
        "id": "ST1AsiFVFsbh"
      },
      "outputs": [],
      "source": [
        "numsamples = X_train_minmax.shape[0]\n",
        "# 1st row is ones and second row is x\n",
        "Xtrain = np.c_[np.ones((numsamples,1)),X_train_minmax]\n",
        "ytrain = train_y"
      ]
    },
    {
      "cell_type": "markdown",
      "metadata": {
        "id": "bGmb-jsgFsbi"
      },
      "source": [
        "#### Linear regression using normal equation\n",
        "\n"
      ]
    },
    {
      "cell_type": "markdown",
      "metadata": {
        "id": "mFLtcPs-Fsbi"
      },
      "source": [
        "-   solve and print coefficients\n",
        "\n"
      ]
    },
    {
      "cell_type": "code",
      "execution_count": null,
      "metadata": {
        "colab": {
          "base_uri": "https://localhost:8080/"
        },
        "id": "FUABeBuRFsbi",
        "outputId": "5971fa9d-4cf4-4a02-fb56-abe67a9b12c1"
      },
      "outputs": [
        {
          "output_type": "stream",
          "name": "stdout",
          "text": [
            "Normal Equations: Coefficients:  [190.52511735]\n",
            "Normal Equations: Intercept:  [141.62731584]\n"
          ]
        }
      ],
      "source": [
        "theta_lin = np.dot(np.dot(np.linalg.inv(np.dot(Xtrain.T, Xtrain) / numsamples), Xtrain.T), ytrain) / numsamples\n",
        "print ('Normal Equations: Coefficients: ', theta_lin[1])\n",
        "print ('Normal Equations: Intercept: ',theta_lin[0])\n",
        "# store this case\n",
        "nc = 0\n",
        "thetav[nc][0] = theta_lin[0]\n",
        "thetav[nc][1] = theta_lin[1]"
      ]
    },
    {
      "cell_type": "markdown",
      "metadata": {
        "id": "ZL3rl5roFsbi"
      },
      "source": [
        "-   then plot the fit to the training data. Fit is:  NOx = $\\text{load}\\theta_1 + \\theta_0 $\n",
        "-   this method is really never numerically used in practice\n",
        "\n"
      ]
    },
    {
      "cell_type": "code",
      "execution_count": null,
      "metadata": {
        "colab": {
          "base_uri": "https://localhost:8080/",
          "height": 279
        },
        "id": "ObnFd1IhFsbi",
        "outputId": "f7b4e232-db7d-4893-8568-2a6789dc461e"
      },
      "outputs": [
        {
          "output_type": "display_data",
          "data": {
            "text/plain": [
              "<Figure size 432x288 with 1 Axes>"
            ],
            "image/png": "[encoded data removed]"
          },
          "metadata": {
            "needs_background": "light"
          }
        }
      ],
      "source": [
        "plt.scatter(train['Load [ft.lb]'], train['NOx [ppm]'],  color='blue')\n",
        "plt.plot(train_x, theta_lin[1]*X_train_minmax + theta_lin[0], '-r')\n",
        "plt.xlabel(\"Load [ft.lb]\")\n",
        "plt.ylabel(\"NOx [ppm]\")\n",
        "plt.show()"
      ]
    },
    {
      "cell_type": "markdown",
      "metadata": {
        "id": "3qoHJ4viFsbi"
      },
      "source": [
        "**Now plot Predicted NOx versus Measured**\n",
        "\n"
      ]
    },
    {
      "cell_type": "markdown",
      "metadata": {
        "id": "AMMwjSGcFsbj"
      },
      "source": [
        "-   the closer to the diagonal line the better the fit\n",
        "\n"
      ]
    },
    {
      "cell_type": "code",
      "execution_count": null,
      "metadata": {
        "colab": {
          "base_uri": "https://localhost:8080/",
          "height": 279
        },
        "id": "_5ZN7-1GFsbj",
        "outputId": "159ff74a-a481-4740-dd04-0accb95d5ba3"
      },
      "outputs": [
        {
          "output_type": "display_data",
          "data": {
            "text/plain": [
              "<Figure size 432x288 with 1 Axes>"
            ],
            "image/png": "[encoded data removed]"
          },
          "metadata": {
            "needs_background": "light"
          }
        }
      ],
      "source": [
        "plt.plot([100,350], [100, 350],  '-k')\n",
        "plt.scatter(train['NOx [ppm]'], theta_lin[1]*X_train_minmax + theta_lin[0],  color='blue', label='training')\n",
        "plt.scatter(test['NOx [ppm]'], theta_lin[1]*X_test_minmax + theta_lin[0],  color='red', label='testing')\n",
        "plt.xlabel(\"Exp NOx [ppm]\")\n",
        "plt.ylabel(\"Pred NOx [ppm]\")\n",
        "plt.legend()\n",
        "plt.gca().set_aspect('equal', adjustable='box')\n",
        "plt.show()"
      ]
    },
    {
      "cell_type": "markdown",
      "metadata": {
        "id": "He3UM_hiFsbj"
      },
      "source": [
        "#### Use sklean package for linear regression\n"
      ]
    },
    {
      "cell_type": "markdown",
      "metadata": {
        "id": "ptgYnHVcFsbj"
      },
      "source": [
        "Define the model type to be a linear regression\n",
        "\n"
      ]
    },
    {
      "cell_type": "code",
      "execution_count": null,
      "metadata": {
        "colab": {
          "base_uri": "https://localhost:8080/"
        },
        "id": "Dg6nm6-KFsbj",
        "outputId": "ce36fbdf-9904-40e9-fcd0-f1d76ac1ede0"
      },
      "outputs": [
        {
          "output_type": "stream",
          "name": "stdout",
          "text": [
            "Coefficients:  [[190.52511735]]\n",
            "Intercept:  [141.62731584]\n"
          ]
        }
      ],
      "source": [
        "from sklearn import linear_model\n",
        "# model type\n",
        "regr = linear_model.LinearRegression()\n",
        "regr.fit (X_train_minmax, train_y)\n",
        "# The coefficients\n",
        "print ('Coefficients: ', regr.coef_)\n",
        "print ('Intercept: ',regr.intercept_)\n",
        "nc = 1\n",
        "thetav[nc][0] = regr.intercept_\n",
        "thetav[nc][1] = regr.coef_"
      ]
    },
    {
      "cell_type": "markdown",
      "metadata": {
        "id": "EP8LLHX-Fsbj"
      },
      "source": [
        "-   the result is the same - you can plot it yourself to check\n",
        "\n"
      ]
    },
    {
      "cell_type": "markdown",
      "metadata": {
        "id": "zmwtNoAZFsbk"
      },
      "source": [
        "#### Using multiple feature using hand-written gradient descent:\n",
        "\n",
        "We had only one feature in the previous part; now we can find a better fit using multiple features."
      ]
    },
    {
      "cell_type": "markdown",
      "metadata": {
        "id": "MJJIOVK3Fsbk"
      },
      "source": [
        "**Training/test split and plot**\n",
        "\n"
      ]
    },
    {
      "cell_type": "markdown",
      "metadata": {
        "id": "SuG4F2LqFsbl"
      },
      "source": [
        "**Training and test data is split**\n",
        "\n"
      ]
    },
    {
      "cell_type": "code",
      "execution_count": null,
      "metadata": {
        "id": "TNbnZdtFFsbl"
      },
      "outputs": [],
      "source": [
        "cdf = data[['Load [ft.lb]','Engine speed [rpm]','mf [mg/stroke]','Pr [PSI]', 'NOx [ppm]']]\n",
        "msk = np.random.rand(len(data)) < 0.8\n",
        "train = cdf[msk]\n",
        "test = cdf[~msk]"
      ]
    },
    {
      "cell_type": "markdown",
      "metadata": {
        "id": "RHZku_X_Fsbl"
      },
      "source": [
        "**Plot NOx versus Load**\n",
        "\n"
      ]
    },
    {
      "cell_type": "code",
      "execution_count": null,
      "metadata": {
        "colab": {
          "base_uri": "https://localhost:8080/",
          "height": 279
        },
        "id": "O2CbpuOCFsbl",
        "outputId": "11290161-9e83-4c89-f867-bacea683531b"
      },
      "outputs": [
        {
          "output_type": "display_data",
          "data": {
            "text/plain": [
              "<Figure size 432x288 with 1 Axes>"
            ],
            "image/png": "[encoded data removed]"
          },
          "metadata": {
            "needs_background": "light"
          }
        }
      ],
      "source": [
        "plt.scatter(train['Load [ft.lb]'], train['NOx [ppm]'],  color='blue', label='training')\n",
        "plt.scatter(test['Load [ft.lb]'], test['NOx [ppm]'],  color='red', label='test')\n",
        "plt.xlabel(\"Load [ft.lb]\")\n",
        "plt.ylabel(\"NOx [ppm]\")\n",
        "plt.legend()\n",
        "plt.show()"
      ]
    },
    {
      "cell_type": "markdown",
      "metadata": {
        "id": "8aJIkue3Fsbl"
      },
      "source": [
        "**Now fit with Multi-features**\n",
        "\n"
      ]
    },
    {
      "cell_type": "markdown",
      "metadata": {
        "id": "RAh43MgJFsbl"
      },
      "source": [
        "Now repeat single feature regression but with multi-features\n",
        "$ NOx =  \\theta_0 + \\text{load}\\theta_1 + \\text{speed}\\theta_2 + m_f\\theta_3 + P_r\\theta_4$\n",
        "\n"
      ]
    },
    {
      "cell_type": "code",
      "execution_count": null,
      "metadata": {
        "id": "tg9QE6FUFsbl"
      },
      "outputs": [],
      "source": [
        "from sklearn import preprocessing\n",
        "\n",
        "train_x = np.asanyarray(train[['Load [ft.lb]','Engine speed [rpm]','mf [mg/stroke]','Pr [PSI]']])\n",
        "train_y = np.asanyarray(train[['NOx [ppm]']])\n",
        "\n",
        "test_x = np.asanyarray(test[['Load [ft.lb]','Engine speed [rpm]','mf [mg/stroke]','Pr [PSI]']])\n",
        "test_y = np.asanyarray(test[['NOx [ppm]']])\n",
        "\n",
        "# train_x = np.asanyarray(train[['Load [ft.lb]']])\n",
        "# train_y = np.asanyarray(train[['NOx [ppm]']])\n",
        "\n",
        "# test_x = np.asanyarray(test[['Load [ft.lb]']])\n",
        "# test_y = np.asanyarray(test[['NOx [ppm]']])\n",
        "\n",
        "\n",
        "min_max_scaler = preprocessing.MinMaxScaler()\n",
        "X_train_minmax = min_max_scaler.fit_transform(train_x)\n",
        "X_test_minmax = min_max_scaler.transform(test_x)"
      ]
    },
    {
      "cell_type": "markdown",
      "metadata": {
        "id": "AaJhRZ3SFsbm"
      },
      "source": [
        "**Find theta**\n",
        "\n"
      ]
    },
    {
      "cell_type": "code",
      "execution_count": null,
      "metadata": {
        "colab": {
          "base_uri": "https://localhost:8080/"
        },
        "id": "P6rtrZz5Fsbm",
        "outputId": "1e269623-e5bc-4302-a19c-6df2d82d839c"
      },
      "outputs": [
        {
          "output_type": "stream",
          "name": "stdout",
          "text": [
            "[[ 198.34138271]\n",
            " [ 243.74667837]\n",
            " [-112.39291324]\n",
            " [-110.72189741]\n",
            " [   7.43165093]]\n"
          ]
        }
      ],
      "source": [
        "numsamples = X_train_minmax.shape[0]\n",
        "\n",
        "X_b = np.c_[np.ones((numsamples,1)),X_train_minmax]\n",
        "X_t = np.c_[np.ones((X_test_minmax.shape[0],1)),X_test_minmax]\n",
        "theta = np.linalg.inv(X_b.T.dot(X_b)).dot(X_b.T).dot(train_y)\n",
        "# Store theta - normal equations\n",
        "nc = 2\n",
        "thetav[nc:nc+1] = theta.T\n",
        "print(theta)"
      ]
    },
    {
      "cell_type": "markdown",
      "metadata": {
        "id": "2pd1klrbFsbm"
      },
      "source": [
        "**Plot predicted versus experimental**\n",
        "\n"
      ]
    },
    {
      "cell_type": "code",
      "execution_count": null,
      "metadata": {
        "colab": {
          "base_uri": "https://localhost:8080/",
          "height": 279
        },
        "id": "f65xEyxuFsbm",
        "outputId": "e693a857-39c4-421d-f08d-cad4e86e89da"
      },
      "outputs": [
        {
          "output_type": "display_data",
          "data": {
            "text/plain": [
              "<Figure size 432x288 with 1 Axes>"
            ],
            "image/png": "[encoded data removed]"
          },
          "metadata": {
            "needs_background": "light"
          }
        }
      ],
      "source": [
        "plt.plot([100,350], [100, 350],  '-k')\n",
        "plt.scatter(train_y, np.dot(theta.T,X_b.T),  color='blue', label='training')\n",
        "plt.scatter(test_y, np.dot(theta.T,X_t.T),  color='red', label='testing')\n",
        "plt.xlabel(\"Exp NOx [ppm]\")\n",
        "plt.ylabel(\"Pred NOx [ppm]\")\n",
        "plt.legend()\n",
        "plt.gca().set_aspect('equal', adjustable='box')\n",
        "plt.show()"
      ]
    },
    {
      "cell_type": "markdown",
      "metadata": {
        "id": "D2MtYDy7Fsbn"
      },
      "source": [
        "**Evaluation of model: Print fit errors (MAE, MSE, R2)**\n",
        "\n"
      ]
    },
    {
      "cell_type": "markdown",
      "metadata": {
        "id": "R2M5lTQGFsbn"
      },
      "source": [
        "Import $R^2$ from sklearn\n",
        "\n"
      ]
    },
    {
      "cell_type": "code",
      "execution_count": null,
      "metadata": {
        "colab": {
          "base_uri": "https://localhost:8080/"
        },
        "id": "bA3NJETYFsbn",
        "outputId": "1fa7a1ad-fca5-4c0f-bb0b-57f927da9ba7"
      },
      "outputs": [
        {
          "output_type": "stream",
          "name": "stdout",
          "text": [
            "Multi Feature: Mean absolute error: 16.04\n",
            "Multi Feature: Residual sum of squares (MSE): 633.87\n",
            "Multi Feature: R2-score: 0.82\n"
          ]
        }
      ],
      "source": [
        "from sklearn.metrics import r2_score\n",
        "mae = np.mean(np.absolute(np.dot(theta.T,X_t.T).T - test_y))\n",
        "mse = np.mean((np.dot(theta.T,X_t.T).T - test_y) ** 2)\n",
        "r2 = r2_score(np.dot(theta.T,X_t.T).T , test_y)\n",
        "print(\"Multi Feature: Mean absolute error: %.2f\" % mae)\n",
        "print(\"Multi Feature: Residual sum of squares (MSE): %.2f\" % mse)\n",
        "print(\"Multi Feature: R2-score: %.2f\" % r2 )\n",
        "# the last column is lambda\n",
        "errv[nc:nc+1] = [mae, mse, r2, 0]"
      ]
    },
    {
      "cell_type": "markdown",
      "metadata": {
        "id": "EbaaaiAaFsbn"
      },
      "source": [
        "**Cost Function and Gradients**\n",
        "\n"
      ]
    },
    {
      "cell_type": "markdown",
      "metadata": {
        "id": "FU8pEA6YFsbn"
      },
      "source": [
        "-   The equation for calculating cost function and gradients are as shown below.\n",
        "-   Please note the cost function is for Linear regression.\n",
        "-   For other algorithms the cost function will be different and the gradients would have  to be derived from the cost functions\n",
        "\n"
      ]
    },
    {
      "cell_type": "markdown",
      "metadata": {
        "id": "hX2dmPiKFsbo"
      },
      "source": [
        "**Cost**\n",
        "\n"
      ]
    },
    {
      "cell_type": "markdown",
      "metadata": {
        "id": "S-OHX8piFsbo"
      },
      "source": [
        "\\begin{equation}\n",
        "J(\\theta) = 1/2m \\sum_{i=1}^{m} (h(\\theta)^{(i)} - y^{(i)})^2 \n",
        "\\end{equation}\n",
        "\n"
      ]
    },
    {
      "cell_type": "markdown",
      "metadata": {
        "id": "0RgHablIFsbo"
      },
      "source": [
        "**Gradient**\n",
        "\n"
      ]
    },
    {
      "cell_type": "markdown",
      "metadata": {
        "id": "WhQYITvuFsbo"
      },
      "source": [
        "\\begin{equation}\n",
        "\\frac{\\partial J(\\theta)}{\\partial \\theta_j} = 1/m\\sum_{i=1}^{m}(h(\\theta)^{(i)} - y^{(i)}).X_j^{(i)}\n",
        "\\end{equation}\n",
        "\n",
        "Where $ h(\\theta) \\longrightarrow \\hat{y}$ the predicted output\n",
        "\n"
      ]
    },
    {
      "cell_type": "markdown",
      "metadata": {
        "id": "I8cq-afbFsbo"
      },
      "source": [
        "**Gradients**\n",
        "\n"
      ]
    },
    {
      "cell_type": "markdown",
      "metadata": {
        "id": "5ZRbiWsrFsbo"
      },
      "source": [
        "\\begin{equation}\n",
        "\\theta_0: = \\theta_0 -\\alpha . (1/m .\\sum_{i=1}^{m}(h(\\theta)^{(i)} - y^{(i)}).X_0^{(i)})\n",
        "\\end{equation}\n",
        "\n",
        "\\begin{equation}\n",
        "\\theta_1: = \\theta_1 -\\alpha . (1/m .\\sum_{i=1}^{m}(h(\\theta)^{(i)} - y^{(i)}).X_1^{(i)})\n",
        "\\end{equation}\n",
        "\n",
        "\\begin{equation}\n",
        "\\theta_2: = \\theta_2 -\\alpha . (1/m .\\sum_{i=1}^{m}(h(\\theta)^{(i)} - y^{(i)}).X_2^{(i)})\n",
        "\\end{equation}\n",
        "\n",
        "\\begin{equation}\n",
        "\\theta_j: = \\theta_j -\\alpha . (1/m .\\sum_{i=1}^{m}(h(\\theta)^{(i)} - y^{(i)}).X_0^{(i)})\n",
        "\\end{equation}\n",
        "\n"
      ]
    },
    {
      "cell_type": "markdown",
      "metadata": {
        "id": "ZKqi9AbzFsbo"
      },
      "source": [
        "**Cost Calculation function**\n",
        "\n"
      ]
    },
    {
      "cell_type": "code",
      "execution_count": null,
      "metadata": {
        "id": "THdEaXvsFsbo"
      },
      "outputs": [],
      "source": [
        "def  cal_cost(theta,X,y):\n",
        "    '''\n",
        "    \n",
        "    Calculates the cost for given X and Y. The following shows and example of a single dimensional X\n",
        "    theta = Vector of thetas \n",
        "    X     = Row of X's np.zeros((2,j))\n",
        "    y     = Actual y's np.zeros((2,1))\n",
        "    \n",
        "    where:\n",
        "        j is the no of features\n",
        "    '''\n",
        "    \n",
        "    m = len(y)\n",
        "    # yhat = theta^T x\n",
        "    predictions = X.dot(theta)\n",
        "    # sum the squares of yhat - y\n",
        "    cost = 1/(2*m) * np.sum(np.square(predictions-y))\n",
        "    return cost"
      ]
    },
    {
      "cell_type": "markdown",
      "metadata": {
        "id": "iNX3XTEmFsbp"
      },
      "source": [
        "**Gradient Descent function**\n",
        "\n"
      ]
    },
    {
      "cell_type": "code",
      "execution_count": null,
      "metadata": {
        "id": "WSn8RjlhFsbp"
      },
      "outputs": [],
      "source": [
        "def gradient_descent(X,y,theta,learning_rate=0.01,iterations=100):\n",
        "    '''\n",
        "    X    = Matrix of X with added bias units\n",
        "    y    = Vector of Y\n",
        "    theta=Vector of thetas np.random.randn(j,1)\n",
        "    learning_rate \n",
        "    iterations = no of iterations\n",
        "    \n",
        "    Returns the final theta vector and array of cost history over no of iterations\n",
        "    '''\n",
        "    m = len(y)\n",
        "    cost_history = np.zeros(iterations)\n",
        "    theta_history = np.zeros((iterations,5))\n",
        "    for it in range(iterations):\n",
        "        \n",
        "        prediction = np.dot(X, theta)\n",
        "        \n",
        "        theta = theta -(1/m)*learning_rate*( X.T.dot((prediction - y)))\n",
        "        theta_history[it,:] =theta.T\n",
        "        cost_history[it]  = cal_cost(theta,X,y)\n",
        "        \n",
        "    return theta, cost_history, theta_history"
      ]
    },
    {
      "cell_type": "markdown",
      "metadata": {
        "id": "KtowS92bFsbp"
      },
      "source": [
        "**Gradient Descent for NOx modeling**\n",
        "\n"
      ]
    },
    {
      "cell_type": "code",
      "execution_count": null,
      "metadata": {
        "id": "2yef04dKFsbp"
      },
      "outputs": [],
      "source": [
        "lr =0.1\n",
        "n_iter = 1000\n",
        "\n",
        "theta = np.random.randn(5,1)\n",
        "\n",
        "\n",
        "X_b = np.c_[np.ones((len(X_train_minmax),1)),X_train_minmax]\n",
        "\n",
        "theta,cost_history,theta_history = gradient_descent(X_b,train_y,theta,lr,n_iter)"
      ]
    },
    {
      "cell_type": "markdown",
      "metadata": {
        "id": "ESU3-UNHFsbp"
      },
      "source": [
        "-   print result\n",
        "\n"
      ]
    },
    {
      "cell_type": "code",
      "execution_count": null,
      "metadata": {
        "colab": {
          "base_uri": "https://localhost:8080/"
        },
        "id": "JqocDdZpFsbp",
        "outputId": "e802af43-d953-46d2-af62-34cb9c11be0e"
      },
      "outputs": [
        {
          "output_type": "stream",
          "name": "stdout",
          "text": [
            "Theta0: 198.504,\n",
            "Theta1: 90.837,\n",
            "Theta2: -140.021,\n",
            "Theta3: 47.973,\n",
            "Theta4: 19.645\n",
            "Final cost:  243.685\n",
            "[[ 198.50447465]\n",
            " [  90.83725051]\n",
            " [-140.02145278]\n",
            " [  47.97342353]\n",
            " [  19.64471337]]\n"
          ]
        }
      ],
      "source": [
        "print('Theta0: {:0.3f},\\nTheta1: {:0.3f},\\nTheta2: {:0.3f},\\nTheta3: {:0.3f},\\nTheta4: {:0.3f}'.format(theta[0][0],theta[1][0],theta[2][0],theta[3][0],theta[4][0]))\n",
        "print('Final cost:  {:0.3f}'.format(cost_history[-1]))\n",
        "# Store theta - gradient\n",
        "nc = 3\n",
        "thetav[nc:nc+1] = theta.T\n",
        "print(theta)"
      ]
    },
    {
      "cell_type": "markdown",
      "metadata": {
        "id": "Wzm1mna6Fsbp"
      },
      "source": [
        "**Plot - the cost J as a function of iterations**\n",
        "\n"
      ]
    },
    {
      "cell_type": "markdown",
      "metadata": {
        "id": "Tlp6qMxvFsbp"
      },
      "source": [
        "-   set figure axis and labels\n",
        "\n"
      ]
    },
    {
      "cell_type": "code",
      "execution_count": null,
      "metadata": {
        "colab": {
          "base_uri": "https://localhost:8080/",
          "height": 279
        },
        "id": "yN39X_1SFsbq",
        "outputId": "46da4653-693e-4eb1-9a6a-db3ad5c763fa"
      },
      "outputs": [
        {
          "output_type": "display_data",
          "data": {
            "text/plain": [
              "<Figure size 432x288 with 1 Axes>"
            ],
            "image/png": "[encoded data removed]"
          },
          "metadata": {
            "needs_background": "light"
          }
        }
      ],
      "source": [
        "fig,ax = plt.subplots(figsize=(6,4))\n",
        "\n",
        "ax.set_ylabel('J(Theta)')\n",
        "ax.set_xlabel('Iterations')\n",
        "_=ax.plot(range(n_iter),cost_history,'b.')\n",
        "ax.set_yscale('log')"
      ]
    },
    {
      "cell_type": "markdown",
      "metadata": {
        "id": "ovQHdqaqFsbq"
      },
      "source": [
        "**Plot Predicted NOx versus Experimental**\n",
        "\n"
      ]
    },
    {
      "cell_type": "code",
      "execution_count": null,
      "metadata": {
        "colab": {
          "base_uri": "https://localhost:8080/",
          "height": 279
        },
        "id": "HzWFCqNiFsbq",
        "outputId": "8a99d131-0877-479d-ce31-741f24ab28ce"
      },
      "outputs": [
        {
          "output_type": "display_data",
          "data": {
            "text/plain": [
              "<Figure size 432x288 with 1 Axes>"
            ],
            "image/png": "[encoded data removed]"
          },
          "metadata": {
            "needs_background": "light"
          }
        }
      ],
      "source": [
        "plt.plot([100,350], [100, 350],  '-k')\n",
        "plt.scatter(train_y, np.dot(theta.T,X_b.T),  color='blue', label='training')\n",
        "plt.scatter(test_y, np.dot(theta.T,X_t.T),  color='red', label='testing')\n",
        "plt.xlabel(\"Exp NOx [ppm]\")\n",
        "plt.ylabel(\"Pred NOx [ppm]\")\n",
        "plt.legend()\n",
        "plt.gca().set_aspect('equal', adjustable='box')\n",
        "plt.show()"
      ]
    },
    {
      "cell_type": "markdown",
      "metadata": {
        "id": "9OrZXVvNFsbq"
      },
      "source": [
        "**Print MAE, MSE and R2**\n",
        "\n"
      ]
    },
    {
      "cell_type": "code",
      "execution_count": null,
      "metadata": {
        "colab": {
          "base_uri": "https://localhost:8080/"
        },
        "id": "6H4Mf-LwFsbq",
        "outputId": "47702b54-3575-4876-a349-a2bf0d17557f"
      },
      "outputs": [
        {
          "output_type": "stream",
          "name": "stdout",
          "text": [
            "Multi Feature: Mean absolute error: 16.33\n",
            "Multi Feature: Residual sum of squares (MSE): 705.80\n",
            "Multi Feature: R2-score: 0.80\n"
          ]
        }
      ],
      "source": [
        "from sklearn.metrics import r2_score\n",
        "mae = np.mean(np.absolute(np.dot(theta.T,X_t.T).T - test_y))\n",
        "mse = np.mean((np.dot(theta.T,X_t.T).T - test_y) ** 2)\n",
        "r2 = r2_score(np.dot(theta.T,X_t.T).T , test_y)\n",
        "print(\"Multi Feature: Mean absolute error: %.2f\" % mae)\n",
        "print(\"Multi Feature: Residual sum of squares (MSE): %.2f\" % mse)\n",
        "print(\"Multi Feature: R2-score: %.2f\" % r2 )\n",
        "# the last column is lambda\n",
        "errv[nc:nc+1] = [mae, mse, r2, 0]"
      ]
    },
    {
      "cell_type": "markdown",
      "metadata": {
        "id": "fjfgcLl6Fsbr"
      },
      "source": [
        "## Regularized Objective-- Ridge regression\n",
        "\n"
      ]
    },
    {
      "cell_type": "markdown",
      "metadata": {
        "id": "hLO9XB9PFsbr"
      },
      "source": [
        "### Least Squares (LS) underdetermined - add regularized objective term\n",
        "\n"
      ]
    },
    {
      "cell_type": "markdown",
      "metadata": {
        "id": "8BFwDS71Fsbr"
      },
      "source": [
        "-   for the exact computation of $\\hat{ \\mathbf{\\theta}}_{LS}$ considering the problem geometrically provides intuition\n",
        "-   The invertability of $X^T X$ implies the unique existence of a set of parameters $ \\mathbf{\\theta}$ that minimizes \\eqref{eq:least_squares}\n",
        "-   In the case that we have fewer linearly independent data points than $n$, \\eqref{eq:LS_grad2} is not unique.\n",
        "    -   Then there exist multiple values of $ \\mathbf{\\theta}$ that result in zero error\n",
        "    -   and the system is underdetermined.\n",
        "-   A common approach to this is to optimize a regularized objective\n",
        "\n",
        "\\begin{equation}\n",
        "\\begin{aligned}\n",
        "& \\underset{ \\mathbf{\\theta}}{\\min}\n",
        "& & \\left\\|  \\mathbf{y} - X  \\mathbf{\\theta} \\right\\|_2^2 + \\lambda \\| \\mathbf{\\theta}\\|^2_2\n",
        "\\end{aligned}\n",
        "\\label{eq:least_squares_norm}\n",
        "\\end{equation}\n",
        "\n",
        "where $\\lambda$ is a positive scalar.\n",
        "\n"
      ]
    },
    {
      "cell_type": "markdown",
      "metadata": {
        "id": "dTDPqBMRFsbr"
      },
      "source": [
        "**Ridge or Tikhanov regression**\n",
        "\n"
      ]
    },
    {
      "cell_type": "markdown",
      "metadata": {
        "id": "gsplCI2rFsbr"
      },
      "source": [
        "-   By adding in the regularization term $\\| \\mathbf{\\theta}\\|^2_2$\n",
        "    -   typically referred to as Ridge or Tikhanov regression, or $L_2$ regression due to the use of the 2-norm)\n",
        "    -   the optimal value of $ \\mathbf{\\theta}$ is biased toward having a small norm.\n",
        "    -   Following a similar approach for normal equation, gives\n",
        "\n",
        "\\begin{equation}\n",
        "    \\hat{ \\mathbf{\\theta}} = (X^T X + \\lambda I)^{-1} X^T  \\mathbf{y}\n",
        "\\end{equation}\n",
        "\n",
        "-   for which the $X^T X + \\lambda I$ is always full rank and thus invertible.\n",
        "-   the solution to the ridge regularized problem is denoted $\\hat{ \\mathbf{\\theta}}_{RR}$\n",
        "\n"
      ]
    },
    {
      "cell_type": "markdown",
      "metadata": {
        "id": "HzeZ5KTfFsbr"
      },
      "source": [
        "-   for positive $\\lambda$, $\\|  \\mathbf{y} - X  \\mathbf{\\theta}\\|_2^2$ may not be zero\n",
        "    -   the estimator of the parameters is biased.\n",
        "    -   As $\\lambda$ gets smaller, this bias will decrease.\n",
        "-   In the limit of $\\lambda \\to 0$, we have\n",
        "\n",
        "\\begin{equation}\n",
        "    (X^T X + \\lambda I)^{-1} X^T \\to X^T (X X^T)^{-1}\n",
        "\\end{equation}\n",
        "\n",
        "\n",
        "-   the least norm solution\n",
        "\n",
        "\\begin{equation}\n",
        "    \\hat{ \\mathbf{\\theta}}_{LN} = X^T (X X^T)^{-1}  \\mathbf{y}.\n",
        "\\end{equation}\n",
        "\n",
        "-   the least norm solution is the set of parameters that achieves zero loss while simultaneously minimizing the 2-norm of the parameter vector.\n",
        "\n"
      ]
    },
    {
      "cell_type": "markdown",
      "metadata": {
        "id": "Sb6pV3WwFsbr"
      },
      "source": [
        "**Least norm vs ridge regression**\n",
        "\n"
      ]
    },
    {
      "cell_type": "markdown",
      "metadata": {
        "id": "a19vXUO6Fsbs"
      },
      "source": [
        "-   why use the ridge regression with a positive value of $\\lambda$\n",
        "-   The added bias from the regularization helps generalize to new data points without <span class=\"underline\">overfitting</span> to the training dataset.\n",
        "-   Regularization is an important concept in machine learning discussed later\n",
        "-   further, ridge regression problem arises naturally in Bayesian inference\n",
        "\n"
      ]
    },
    {
      "cell_type": "markdown",
      "metadata": {
        "id": "PjY31U22Fsbs"
      },
      "source": [
        "### Ridge regression example in Python\n",
        "\n"
      ]
    },
    {
      "cell_type": "markdown",
      "metadata": {
        "id": "lnLLM1yJFsbs"
      },
      "source": [
        "#### Ridge regression single feature using normal equation\n",
        "\n"
      ]
    },
    {
      "cell_type": "markdown",
      "metadata": {
        "id": "eTCzplueFsbs"
      },
      "source": [
        "Now repeat single feature regression but with ridge regularization\n",
        "\n"
      ]
    },
    {
      "cell_type": "code",
      "execution_count": null,
      "metadata": {
        "id": "D6XeLGEFFsbs"
      },
      "outputs": [],
      "source": [
        "from sklearn import preprocessing\n",
        "\n",
        "train_x = np.asanyarray(train[['Load [ft.lb]']])\n",
        "train_y = np.asanyarray(train[['NOx [ppm]']])\n",
        "\n",
        "test_x = np.asanyarray(test[['Load [ft.lb]']])\n",
        "test_y = np.asanyarray(test[['NOx [ppm]']])\n",
        "\n",
        "\n",
        "min_max_scaler = preprocessing.MinMaxScaler()\n",
        "X_train_minmax = min_max_scaler.fit_transform(train_x)\n",
        "X_test_minmax = min_max_scaler.transform(test_x)"
      ]
    },
    {
      "cell_type": "code",
      "execution_count": null,
      "metadata": {
        "id": "SPKd7QOvFsbs"
      },
      "outputs": [],
      "source": [
        "numsamples = X_train_minmax.shape[0]\n",
        "# 1st row is ones and second row is x\n",
        "Xtrain = np.c_[np.ones((numsamples,1)),X_train_minmax]\n",
        "ytrain = train_y"
      ]
    },
    {
      "cell_type": "markdown",
      "metadata": {
        "id": "K64OdDoXFsbs"
      },
      "source": [
        "Use regularization \n",
        "\n"
      ]
    },
    {
      "cell_type": "code",
      "execution_count": null,
      "metadata": {
        "colab": {
          "base_uri": "https://localhost:8080/"
        },
        "id": "OGOp5I6tFsbs",
        "outputId": "3c25331b-0799-4229-fd3a-8f4a9d1ab537"
      },
      "outputs": [
        {
          "output_type": "stream",
          "name": "stdout",
          "text": [
            "Coefficients:  [163.89339829]\n",
            "Intercept:  [146.7754385]\n"
          ]
        }
      ],
      "source": [
        "Lambda = 0.1\n",
        "\n",
        "size = Xtrain.shape\n",
        "theta_ridge = np.dot(np.dot(np.linalg.inv(\n",
        "            np.add(np.dot(Xtrain.T, Xtrain) / 1, np.multiply(Lambda, np.identity(size[1])))),\n",
        "                                     Xtrain.T), ytrain) / 1\n",
        "\n",
        "# The coefficients\n",
        "print ('Coefficients: ', theta_ridge[1])\n",
        "print ('Intercept: ',theta_ridge[0])"
      ]
    },
    {
      "cell_type": "markdown",
      "metadata": {
        "id": "2l-hE7YCFsbt"
      },
      "source": [
        "**Plot fit on training data**\n",
        "\n"
      ]
    },
    {
      "cell_type": "code",
      "execution_count": null,
      "metadata": {
        "colab": {
          "base_uri": "https://localhost:8080/",
          "height": 279
        },
        "id": "abW66eoiFsbt",
        "outputId": "ff8036e3-ba60-4308-db13-acc4d3b4257e"
      },
      "outputs": [
        {
          "output_type": "display_data",
          "data": {
            "text/plain": [
              "<Figure size 432x288 with 1 Axes>"
            ],
            "image/png": "[encoded data removed]"
          },
          "metadata": {
            "needs_background": "light"
          }
        }
      ],
      "source": [
        "plt.scatter(train['Load [ft.lb]'], train['NOx [ppm]'],  color='blue')\n",
        "plt.plot(train_x, theta_ridge[0]+X_train_minmax * theta_ridge[1], '-r')\n",
        "plt.xlabel(\"Load [ft.lb]\")\n",
        "plt.ylabel(\"NOx [ppm]\")\n",
        "plt.show()"
      ]
    },
    {
      "cell_type": "markdown",
      "metadata": {
        "id": "Ot4ozhGQFsbt"
      },
      "source": [
        "**Plot NOx prediction versus Experimental**\n",
        "\n"
      ]
    },
    {
      "cell_type": "code",
      "execution_count": null,
      "metadata": {
        "colab": {
          "base_uri": "https://localhost:8080/",
          "height": 279
        },
        "id": "ik2MNPAXFsbt",
        "outputId": "38235687-db31-4888-ac8d-0452959b02b6"
      },
      "outputs": [
        {
          "output_type": "display_data",
          "data": {
            "text/plain": [
              "<Figure size 432x288 with 1 Axes>"
            ],
            "image/png": "[encoded data removed]"
          },
          "metadata": {
            "needs_background": "light"
          }
        }
      ],
      "source": [
        "plt.plot([100,350], [100, 350],  '-k')\n",
        "plt.scatter(train['NOx [ppm]'], theta_ridge[0]*X_train_minmax + theta_lin[1],  color='blue', label='training')\n",
        "plt.scatter(test['NOx [ppm]'], theta_ridge[0]*X_test_minmax + theta_lin[1],  color='red', label='testing')\n",
        "plt.xlabel(\"Exp NOx [ppm]\")\n",
        "plt.ylabel(\"Pred NOx [ppm]\")\n",
        "plt.legend()\n",
        "plt.gca().set_aspect('equal', adjustable='box')\n",
        "plt.show()"
      ]
    },
    {
      "cell_type": "markdown",
      "metadata": {
        "id": "9D9JHec2Fsbt"
      },
      "source": [
        "#### Ridge regression single feature using sklearn library\n",
        "\n"
      ]
    },
    {
      "cell_type": "markdown",
      "metadata": {
        "id": "_QA9nzLGFsbt"
      },
      "source": [
        "-   in Python now use `sklearn` library\n",
        "-   Import ridge `Ridge` from `sklearn`\n",
        "\n"
      ]
    },
    {
      "cell_type": "code",
      "execution_count": null,
      "metadata": {
        "colab": {
          "base_uri": "https://localhost:8080/"
        },
        "id": "3B2-JNYTFsbt",
        "outputId": "7be220bf-f2ad-4041-fb0a-3a82506e3427"
      },
      "outputs": [
        {
          "output_type": "stream",
          "name": "stdout",
          "text": [
            "Coefficients:  [[162.48489639]]\n",
            "Intercept:  [147.72202208]\n"
          ]
        }
      ],
      "source": [
        "from sklearn.linear_model import Ridge\n",
        "#  definition of cost is differert in sklearn - gradient decsent is used here\n",
        "Lambda = 0.1\n",
        "# create regressor\n",
        "regr_ridge = Ridge(alpha=Lambda)\n",
        "# train regressor\n",
        "regr_ridge.fit(X_train_minmax, train_y)\n",
        "\n",
        "# The coefficients\n",
        "print ('Coefficients: ', regr_ridge.coef_)\n",
        "print ('Intercept: ',regr_ridge.intercept_)"
      ]
    },
    {
      "cell_type": "markdown",
      "metadata": {
        "id": "qmh46uc3Fsbt"
      },
      "source": [
        "**Now plot linear with one feature**\n",
        "\n"
      ]
    },
    {
      "cell_type": "code",
      "execution_count": null,
      "metadata": {
        "colab": {
          "base_uri": "https://localhost:8080/",
          "height": 279
        },
        "id": "IeQIt_AZFsbu",
        "outputId": "8ba44309-a3b2-4b4a-beb1-863898ecf6fd"
      },
      "outputs": [
        {
          "output_type": "display_data",
          "data": {
            "text/plain": [
              "<Figure size 432x288 with 1 Axes>"
            ],
            "image/png": "[encoded data removed]"
          },
          "metadata": {
            "needs_background": "light"
          }
        }
      ],
      "source": [
        "plt.scatter(train['Load [ft.lb]'], train['NOx [ppm]'],  color='blue')\n",
        "plt.plot(train_x, regr_ridge.coef_[0][0]*X_train_minmax + regr_ridge.intercept_[0], '-r')\n",
        "plt.xlabel(\"Load [ft.lb]\")\n",
        "plt.ylabel(\"NOx [ppm]\")\n",
        "plt.show()"
      ]
    },
    {
      "cell_type": "code",
      "execution_count": null,
      "metadata": {
        "colab": {
          "base_uri": "https://localhost:8080/",
          "height": 279
        },
        "id": "47FJXtrxFsbu",
        "outputId": "5e8be39f-4229-4aec-91f3-6506e5699177"
      },
      "outputs": [
        {
          "output_type": "display_data",
          "data": {
            "text/plain": [
              "<Figure size 432x288 with 1 Axes>"
            ],
            "image/png": "[encoded data removed]"
          },
          "metadata": {
            "needs_background": "light"
          }
        }
      ],
      "source": [
        "plt.plot([100,350], [100, 350],  '-k')\n",
        "plt.scatter(train['NOx [ppm]'], regr_ridge.coef_[0][0]*X_train_minmax + regr_ridge.intercept_[0],  color='blue', label='training')\n",
        "plt.scatter(test['NOx [ppm]'], regr_ridge.coef_[0][0]*X_test_minmax + regr_ridge.intercept_[0],  color='red', label='testing')\n",
        "plt.xlabel(\"Exp NOx [ppm]\")\n",
        "plt.ylabel(\"Pred NOx [ppm]\")\n",
        "plt.legend()\n",
        "plt.gca().set_aspect('equal', adjustable='box')\n",
        "plt.show()"
      ]
    },
    {
      "cell_type": "markdown",
      "metadata": {
        "id": "bjYPR-vLFsbu"
      },
      "source": [
        "#### Ridge regression with multiple feature\n",
        "\n"
      ]
    },
    {
      "cell_type": "markdown",
      "metadata": {
        "id": "Lu8tAs4gFsbu"
      },
      "source": [
        "-   here try to improve the NOx model using:\n",
        "    -   more features as before use: load, speed, $m_f$, $P_r$ and a constant\n",
        "\n"
      ]
    },
    {
      "cell_type": "code",
      "execution_count": null,
      "metadata": {
        "id": "ogmW1ZVPFsbu"
      },
      "outputs": [],
      "source": [
        "#  Preparing data for sklearn\n",
        "from sklearn import preprocessing\n",
        "\n",
        "train_x_miso = np.asanyarray(train[['Load [ft.lb]','Engine speed [rpm]','mf [mg/stroke]','Pr [PSI]']])\n",
        "train_y_miso = np.asanyarray(train[['NOx [ppm]']])\n",
        "\n",
        "test_x_miso = np.asanyarray(test[['Load [ft.lb]','Engine speed [rpm]','mf [mg/stroke]','Pr [PSI]']])\n",
        "test_y_miso = np.asanyarray(test[['NOx [ppm]']])\n",
        "\n",
        "\n",
        "min_max_scaler_miso = preprocessing.MinMaxScaler()\n",
        "X_train_minmax_miso = min_max_scaler.fit_transform(train_x_miso)\n",
        "X_test_minmax_miso = min_max_scaler.transform(test_x_miso)"
      ]
    },
    {
      "cell_type": "markdown",
      "metadata": {
        "id": "UobOomEJFsbu"
      },
      "source": [
        "**Fit the model and print coefficients**\n",
        "\n"
      ]
    },
    {
      "cell_type": "code",
      "execution_count": null,
      "metadata": {
        "colab": {
          "base_uri": "https://localhost:8080/"
        },
        "id": "LpToo_tlFsbv",
        "outputId": "4c2eedbf-edc5-4363-c682-a57a5dbf6eb6"
      },
      "outputs": [
        {
          "output_type": "stream",
          "name": "stdout",
          "text": [
            "Coefficients:  [[ 243.74667837 -112.39291324 -110.72189741    7.43165093]]\n",
            "Intercept:  [198.34138271]\n"
          ]
        }
      ],
      "source": [
        "from sklearn import linear_model\n",
        "regr_miso = linear_model.LinearRegression()\n",
        "regr_miso.fit (X_train_minmax_miso, train_y)\n",
        "# The coefficients\n",
        "print ('Coefficients: ', regr_miso.coef_)\n",
        "print ('Intercept: ',regr_miso.intercept_)"
      ]
    },
    {
      "cell_type": "code",
      "execution_count": null,
      "metadata": {
        "id": "uILB-lo7Fsbv"
      },
      "outputs": [],
      "source": [
        "y_hat_regr_miso_tr = regr_miso.predict(X_train_minmax_miso) #training prediction\n",
        "y_hat_regr_miso_ts = regr_miso.predict(X_test_minmax_miso) #testing prediction"
      ]
    },
    {
      "cell_type": "markdown",
      "metadata": {
        "id": "eF7NKI8zFsbv"
      },
      "source": [
        "**Plot NOx fit**\n",
        "\n"
      ]
    },
    {
      "cell_type": "code",
      "execution_count": null,
      "metadata": {
        "colab": {
          "base_uri": "https://localhost:8080/",
          "height": 279
        },
        "id": "VuHgwrstFsbv",
        "outputId": "a1acd691-eef1-476d-e5f1-83467356a214"
      },
      "outputs": [
        {
          "output_type": "display_data",
          "data": {
            "text/plain": [
              "<Figure size 432x288 with 1 Axes>"
            ],
            "image/png": "[encoded data removed]"
          },
          "metadata": {
            "needs_background": "light"
          }
        }
      ],
      "source": [
        "plt.plot([100,350], [100, 350],  '-k')\n",
        "plt.scatter(train['NOx [ppm]'], y_hat_regr_miso_tr,  color='blue', label='training')\n",
        "plt.scatter(test['NOx [ppm]'], y_hat_regr_miso_ts,  color='red', label='testing')\n",
        "plt.xlabel(\"Exp NOx [ppm]\")\n",
        "plt.ylabel(\"Pred NOx [ppm]\")\n",
        "plt.legend()\n",
        "plt.gca().set_aspect('equal', adjustable='box')\n",
        "plt.show()"
      ]
    },
    {
      "cell_type": "markdown",
      "metadata": {
        "id": "xnoWU5bGFsbv"
      },
      "source": [
        "#### Compare single and Multi feature model use - MSE, MAE, and $R^2$\n",
        "\n"
      ]
    },
    {
      "cell_type": "code",
      "execution_count": null,
      "metadata": {
        "colab": {
          "base_uri": "https://localhost:8080/"
        },
        "id": "KWP-ptGmFsbv",
        "outputId": "7ef0388e-afb5-4663-819a-7883dcf60283"
      },
      "outputs": [
        {
          "output_type": "stream",
          "name": "stdout",
          "text": [
            "Multi Feature: Mean absolute error: 16.04\n",
            "Multi Feature: Residual sum of squares (MSE): 633.87\n",
            "Multi Feature: R2-score: 0.82\n"
          ]
        }
      ],
      "source": [
        "from sklearn.metrics import r2_score\n",
        "\n",
        "\n",
        "print(\"Multi Feature: Mean absolute error: %.2f\" % np.mean(np.absolute(y_hat_regr_miso_ts - test_y)))\n",
        "print(\"Multi Feature: Residual sum of squares (MSE): %.2f\" % np.mean((y_hat_regr_miso_ts - test_y) ** 2))\n",
        "print(\"Multi Feature: R2-score: %.2f\" % r2_score(y_hat_regr_miso_ts , test_y) )"
      ]
    },
    {
      "cell_type": "code",
      "execution_count": null,
      "metadata": {
        "colab": {
          "base_uri": "https://localhost:8080/"
        },
        "id": "zNtZAPDjFsby",
        "outputId": "ad3459f2-d79b-4dd5-efea-99cc4012334f"
      },
      "outputs": [
        {
          "output_type": "stream",
          "name": "stdout",
          "text": [
            "Single Feature: Mean absolute error: 34.47\n",
            "Single Feature: Residual sum of squares (MSE): 1918.24\n",
            "Single Feature: R2-score: 0.27\n"
          ]
        }
      ],
      "source": [
        "y_hat_regr_tr = regr.predict(X_train_minmax) #training prediction\n",
        "y_hat_regr_ts = regr.predict(X_test_minmax) #testing prediction\n",
        "\n",
        "print(\"Single Feature: Mean absolute error: %.2f\" % np.mean(np.absolute(y_hat_regr_ts - test_y)))\n",
        "print(\"Single Feature: Residual sum of squares (MSE): %.2f\" % np.mean((y_hat_regr_ts - test_y) ** 2))\n",
        "print(\"Single Feature: R2-score: %.2f\" % r2_score(y_hat_regr_ts , test_y) )"
      ]
    },
    {
      "cell_type": "markdown",
      "metadata": {
        "id": "FsEqi-78Fsby"
      },
      "source": [
        "#### Add regularization to multi-feature\n",
        "\n"
      ]
    },
    {
      "cell_type": "code",
      "execution_count": null,
      "metadata": {
        "colab": {
          "base_uri": "https://localhost:8080/"
        },
        "id": "yDXB09CvFsby",
        "outputId": "ff79eaf7-dcaa-482a-a415-68e4e1ffd447"
      },
      "outputs": [
        {
          "output_type": "stream",
          "name": "stdout",
          "text": [
            "Coefficients:  [[  94.33496675 -126.68345708   26.7261828    -3.40819817]]\n",
            "Intercept:  [215.16029914]\n"
          ]
        }
      ],
      "source": [
        "regr_ridge_miso = Ridge(alpha=0.1)\n",
        "regr_ridge_miso.fit(X_train_minmax_miso, train_y)\n",
        "\n",
        "# The coefficients\n",
        "print ('Coefficients: ', regr_ridge_miso.coef_)\n",
        "print ('Intercept: ',regr_ridge_miso.intercept_)"
      ]
    },
    {
      "cell_type": "markdown",
      "metadata": {
        "id": "fdfz9-NvFsby"
      },
      "source": [
        "**multiple features prediction and plot**\n",
        "\n"
      ]
    },
    {
      "cell_type": "code",
      "execution_count": null,
      "metadata": {
        "id": "3nmrJX0kFsbz"
      },
      "outputs": [],
      "source": [
        "y_hat_regr_ridge_miso_tr = regr_ridge_miso.predict(X_train_minmax_miso) #training prediction\n",
        "y_hat_regr_ridge_miso_ts = regr_ridge_miso.predict(X_test_minmax_miso) #testing prediction"
      ]
    },
    {
      "cell_type": "code",
      "execution_count": null,
      "metadata": {
        "colab": {
          "base_uri": "https://localhost:8080/",
          "height": 331
        },
        "id": "Tbs9daibFsbz",
        "outputId": "5eaec1ae-b874-42ad-f485-e63149309c2e"
      },
      "outputs": [
        {
          "output_type": "display_data",
          "data": {
            "text/plain": [
              "<Figure size 432x288 with 1 Axes>"
            ],
            "image/png": "[encoded data removed]"
          },
          "metadata": {
            "needs_background": "light"
          }
        },
        {
          "output_type": "stream",
          "name": "stdout",
          "text": [
            "Multi Feature (Ridge): Mean absolute error: 16.99\n",
            "Multi Feature (Ridge): Residual sum of squares (MSE): 716.01\n",
            "Multi Feature (Ridge): R2-score: 0.79\n"
          ]
        }
      ],
      "source": [
        "plt.plot([100,350], [100, 350],  '-k')\n",
        "plt.scatter(train['NOx [ppm]'], y_hat_regr_ridge_miso_tr,  color='blue', label='training')\n",
        "plt.scatter(test['NOx [ppm]'], y_hat_regr_ridge_miso_ts,  color='red', label='testing')\n",
        "plt.xlabel(\"Exp NOx [ppm]\")\n",
        "plt.ylabel(\"Pred NOx [ppm]\")\n",
        "plt.legend()\n",
        "plt.gca().set_aspect('equal', adjustable='box')\n",
        "plt.show()\n",
        "\n",
        "print(\"Multi Feature (Ridge): Mean absolute error: %.2f\" % np.mean(np.absolute(y_hat_regr_ridge_miso_ts - test_y)))\n",
        "print(\"Multi Feature (Ridge): Residual sum of squares (MSE): %.2f\" % np.mean((y_hat_regr_ridge_miso_ts - test_y) ** 2))\n",
        "print(\"Multi Feature (Ridge): R2-score: %.2f\" % r2_score(y_hat_regr_ridge_miso_ts , test_y) )"
      ]
    },
    {
      "cell_type": "markdown",
      "metadata": {
        "id": "s6gtOZ2XFsbz"
      },
      "source": [
        "-   Mean absolute error and Residual sum of squares (MSE) increased slightly over the test data while R2 is the same\n",
        "\n"
      ]
    },
    {
      "cell_type": "markdown",
      "metadata": {
        "id": "ktaYiI7vFsbz"
      },
      "source": [
        "#### Use polynomial features\n",
        "\n"
      ]
    },
    {
      "cell_type": "markdown",
      "metadata": {
        "id": "Svg6cpUBFsbz"
      },
      "source": [
        "-   first import function to create polynomial features\n",
        "-   get 15 terms with all cross products\n",
        "\n"
      ]
    },
    {
      "cell_type": "code",
      "execution_count": null,
      "metadata": {
        "id": "YZzDrRKBFsb0"
      },
      "outputs": [],
      "source": [
        "from sklearn.preprocessing import PolynomialFeatures\n",
        "\n",
        "train_x_p = np.asanyarray(train[['Load [ft.lb]','Engine speed [rpm]','mf [mg/stroke]','Pr [PSI]']])\n",
        "train_y_p = np.asanyarray(train[['NOx [ppm]']])\n",
        "\n",
        "test_x_p = np.asanyarray(test[['Load [ft.lb]','Engine speed [rpm]','mf [mg/stroke]','Pr [PSI]']])\n",
        "test_y_p = np.asanyarray(test[['NOx [ppm]']])\n",
        "# here use polynomials of degree 2\n",
        "poly = PolynomialFeatures(degree=2)\n",
        "train_x_poly = poly.fit_transform(train_x_p)\n",
        "test_x_poly = poly.fit_transform(test_x_p)\n",
        "\n",
        "min_max_scaler_ploy = preprocessing.MinMaxScaler()\n",
        "X_train_minmax_ploy = min_max_scaler.fit_transform(train_x_poly)\n",
        "X_test_minmax_ploy = min_max_scaler.transform(test_x_poly)"
      ]
    },
    {
      "cell_type": "code",
      "execution_count": null,
      "metadata": {
        "colab": {
          "base_uri": "https://localhost:8080/"
        },
        "id": "pNJMN76GFsb0",
        "outputId": "f1e8d388-df7b-4e83-e5c2-493c9ccb4404"
      },
      "outputs": [
        {
          "output_type": "stream",
          "name": "stdout",
          "text": [
            "Coefficients:  [[    0.          4348.66577304  -121.8563461  -3664.91692746\n",
            "    582.22516193  -880.562787    -628.90576941  -683.02423169\n",
            "  -2476.77756311   305.39856591  -221.52557924  -251.96032306\n",
            "   1616.10927063  2790.01960598  -574.35698449]]\n",
            "Intercept:  [208.59598226]\n"
          ]
        }
      ],
      "source": [
        "regr_poly = linear_model.LinearRegression()\n",
        "\n",
        "regr_poly.fit (X_train_minmax_ploy, train_y_p)\n",
        "# The coefficients\n",
        "print ('Coefficients: ', regr_poly.coef_)\n",
        "print ('Intercept: ',regr_poly.intercept_)"
      ]
    },
    {
      "cell_type": "markdown",
      "metadata": {
        "id": "TpBsCk4eFsb0"
      },
      "source": [
        "**training and test prediction and plot for polynomial features**\n",
        "\n"
      ]
    },
    {
      "cell_type": "markdown",
      "metadata": {
        "id": "QdFDPfGlFsb0"
      },
      "source": [
        "-   now, perform multi-feature regression with polynomial basis\n",
        "\n"
      ]
    },
    {
      "cell_type": "code",
      "execution_count": null,
      "metadata": {
        "id": "_j9pGX9kFsb0"
      },
      "outputs": [],
      "source": [
        "y_hat_regr_poly_tr = regr_poly.predict(X_train_minmax_ploy) #training prediction\n",
        "y_hat_regr_poly_ts = regr_poly.predict(X_test_minmax_ploy) #testing prediction"
      ]
    },
    {
      "cell_type": "code",
      "execution_count": null,
      "metadata": {
        "colab": {
          "base_uri": "https://localhost:8080/",
          "height": 279
        },
        "id": "97GXkKy_Fsb0",
        "outputId": "6a5cbf17-214a-4f2c-c0cc-18b7ed103778"
      },
      "outputs": [
        {
          "output_type": "display_data",
          "data": {
            "text/plain": [
              "<Figure size 432x288 with 1 Axes>"
            ],
            "image/png": "[encoded data removed]"
          },
          "metadata": {
            "needs_background": "light"
          }
        }
      ],
      "source": [
        "plt.plot([100,350], [100, 350],  '-k')\n",
        "plt.scatter(train['NOx [ppm]'], y_hat_regr_poly_tr,  color='blue', label='training')\n",
        "plt.scatter(test['NOx [ppm]'], y_hat_regr_poly_ts,  color='red', label='testing')\n",
        "plt.xlabel(\"Exp NOx [ppm]\")\n",
        "plt.ylabel(\"Pred NOx [ppm]\")\n",
        "plt.legend()\n",
        "plt.gca().set_aspect('equal', adjustable='box')\n",
        "plt.show()"
      ]
    },
    {
      "cell_type": "code",
      "execution_count": null,
      "metadata": {
        "colab": {
          "base_uri": "https://localhost:8080/"
        },
        "id": "F9NbOxA4Fsb1",
        "outputId": "7690c965-baee-4679-9526-0367437fdf62"
      },
      "outputs": [
        {
          "output_type": "stream",
          "name": "stdout",
          "text": [
            "Multi Feature + polynomial- testing Mean absolute error: 13.36\n",
            "Multi Feature + polynomial- testing sum of squares (MSE): 476.55\n",
            "Multi Feature + polynomial- testing R2-score: 0.90\n"
          ]
        }
      ],
      "source": [
        "print(\"Multi Feature + polynomial- testing Mean absolute error: %.2f\" % np.mean(np.absolute(y_hat_regr_poly_ts - test_y)))\n",
        "print(\"Multi Feature + polynomial- testing sum of squares (MSE): %.2f\" % np.mean((y_hat_regr_poly_ts - test_y) ** 2))\n",
        "print(\"Multi Feature + polynomial- testing R2-score: %.2f\" % r2_score(y_hat_regr_poly_ts , test_y) )"
      ]
    },
    {
      "cell_type": "code",
      "execution_count": null,
      "metadata": {
        "colab": {
          "base_uri": "https://localhost:8080/"
        },
        "id": "I5VAV5flFsb1",
        "outputId": "a6cf2c0e-c438-49f2-c8c0-ffc93f98b821"
      },
      "outputs": [
        {
          "output_type": "stream",
          "name": "stdout",
          "text": [
            "Multi Feature + polynomial- training Mean absolute error: 6.47\n",
            "Multi Feature + polynomial- training sum of squares (MSE): 62.27\n",
            "Multi Feature + polynomial- training R2-score: 0.99\n"
          ]
        }
      ],
      "source": [
        "# training: \n",
        "print(\"Multi Feature + polynomial- training Mean absolute error: %.2f\" % np.mean(np.absolute(y_hat_regr_poly_tr - train_y)))\n",
        "print(\"Multi Feature + polynomial- training sum of squares (MSE): %.2f\" % np.mean((y_hat_regr_poly_tr - train_y) ** 2))\n",
        "print(\"Multi Feature + polynomial- training R2-score: %.2f\" % r2_score(y_hat_regr_poly_tr , train_y) )"
      ]
    },
    {
      "cell_type": "markdown",
      "metadata": {
        "id": "tMpysl8lFsb1"
      },
      "source": [
        "#### Try regularization with the polynomial feature set\n",
        "\n"
      ]
    },
    {
      "cell_type": "code",
      "execution_count": null,
      "metadata": {
        "colab": {
          "base_uri": "https://localhost:8080/"
        },
        "id": "LXi5DsyjFsb1",
        "outputId": "5f5b9e0a-02cd-42cc-80e8-f5b53cd5541b"
      },
      "outputs": [
        {
          "output_type": "stream",
          "name": "stdout",
          "text": [
            "Coefficients:  [[   0.          253.24624392 -496.18322743   15.53389227   42.36119046\n",
            "  -220.0684999  -443.01579463  -77.50805336  340.85724207  342.0049843\n",
            "  -108.05472065  174.85571881  178.92650394  195.68692457 -144.58607417]]\n",
            "Intercept:  [213.95536816]\n"
          ]
        }
      ],
      "source": [
        "#  definition of cost is differert in sklearn - gradient decsent is used here\n",
        "\n",
        "regr_ridge_poly = Ridge(alpha=0.001)\n",
        "regr_ridge_poly.fit(X_train_minmax_ploy, train_y)\n",
        "\n",
        "# The coefficients\n",
        "print ('Coefficients: ', regr_ridge_poly.coef_)\n",
        "print ('Intercept: ',regr_ridge_poly.intercept_)"
      ]
    },
    {
      "cell_type": "markdown",
      "metadata": {
        "id": "wYW1GUkaFsb1"
      },
      "source": [
        "**Plot poly features with regularization**\n",
        "\n"
      ]
    },
    {
      "cell_type": "code",
      "execution_count": null,
      "metadata": {
        "colab": {
          "base_uri": "https://localhost:8080/",
          "height": 331
        },
        "id": "QVtqITlDFsb1",
        "outputId": "ab01654e-8463-40c2-8eb5-aef1a8dafa8c"
      },
      "outputs": [
        {
          "output_type": "display_data",
          "data": {
            "text/plain": [
              "<Figure size 432x288 with 1 Axes>"
            ],
            "image/png": "[encoded data removed]"
          },
          "metadata": {
            "needs_background": "light"
          }
        },
        {
          "output_type": "stream",
          "name": "stdout",
          "text": [
            "Multi Feature + polynomial (Ridge)-testing Mean absolute error: 12.74\n",
            "Multi Feature + polynomial (Ridge)-testing Residual sum of squares (MSE): 358.73\n",
            "Multi Feature + polynomial (Ridge)-testing R2-score: 0.91\n"
          ]
        }
      ],
      "source": [
        "y_hat_regr_ridge_poly_tr = regr_ridge_poly.predict(X_train_minmax_ploy) #training prediction\n",
        "y_hat_regr_ridge_poly_ts = regr_ridge_poly.predict(X_test_minmax_ploy) #testing prediction\n",
        "\n",
        "\n",
        "plt.plot([100,350], [100, 350],  '-k')\n",
        "plt.scatter(train['NOx [ppm]'], y_hat_regr_ridge_poly_tr,  color='blue', label='training')\n",
        "plt.scatter(test['NOx [ppm]'], y_hat_regr_ridge_poly_ts,  color='red', label='testing')\n",
        "plt.xlabel(\"Exp NOx [ppm]\")\n",
        "plt.ylabel(\"Pred NOx [ppm]\")\n",
        "plt.legend()\n",
        "plt.gca().set_aspect('equal', adjustable='box')\n",
        "plt.show()\n",
        "\n",
        "\n",
        "print(\"Multi Feature + polynomial (Ridge)-testing Mean absolute error: %.2f\" % np.mean(np.absolute(y_hat_regr_ridge_poly_ts - test_y)))\n",
        "print(\"Multi Feature + polynomial (Ridge)-testing Residual sum of squares (MSE): %.2f\" % np.mean((y_hat_regr_ridge_poly_ts - test_y) ** 2))\n",
        "print(\"Multi Feature + polynomial (Ridge)-testing R2-score: %.2f\" % r2_score(y_hat_regr_ridge_poly_ts , test_y) )"
      ]
    },
    {
      "cell_type": "markdown",
      "metadata": {
        "id": "dpapo_-dFsb1"
      },
      "source": [
        "Mean absolute error and Residual sum of squares (MSE) is slightly increased for testing data, while \\(R^2\\) is almost the same.\n",
        "\n"
      ]
    },
    {
      "cell_type": "code",
      "execution_count": null,
      "metadata": {
        "colab": {
          "base_uri": "https://localhost:8080/"
        },
        "id": "c87kn2DdFsb1",
        "outputId": "7d9b52ea-ffe8-4608-bb6e-0260920db2c5"
      },
      "outputs": [
        {
          "output_type": "stream",
          "name": "stdout",
          "text": [
            "Multi Feature + polynomial + regularization- training Mean absolute error: 6.79\n",
            "Multi Feature + polynomial + regularization- training sum of squares (MSE): 79.93\n",
            "Multi Feature + polynomial +regularization- training R2-score: 0.98\n"
          ]
        }
      ],
      "source": [
        "# training: \n",
        "print(\"Multi Feature + polynomial + regularization- training Mean absolute error: %.2f\" % np.mean(np.absolute(y_hat_regr_ridge_poly_tr - train_y)))\n",
        "print(\"Multi Feature + polynomial + regularization- training sum of squares (MSE): %.2f\" % np.mean((y_hat_regr_ridge_poly_tr - train_y) ** 2))\n",
        "print(\"Multi Feature + polynomial +regularization- training R2-score: %.2f\" % r2_score(y_hat_regr_ridge_poly_tr , train_y) )"
      ]
    },
    {
      "cell_type": "markdown",
      "metadata": {
        "id": "aK-2O_XmFsb2"
      },
      "source": [
        "#### Analyze the effect of  $ \\lambda $ in MAE:\n",
        "\n"
      ]
    },
    {
      "cell_type": "code",
      "execution_count": null,
      "metadata": {
        "id": "yqX5HhfVFsb2"
      },
      "outputs": [],
      "source": [
        "from sklearn.linear_model import Ridge\n",
        "from sklearn.metrics import mean_squared_error\n",
        "\n",
        "clf = Ridge()\n",
        "\n",
        "X = X_train_minmax_ploy\n",
        "y = train_y\n",
        "\n",
        "coefs = []\n",
        "errors = []\n",
        "\n",
        "alphas = np.logspace(-6, 6, 200)\n",
        "\n",
        "# Train the model with different regularisation strengths\n",
        "for a in alphas:\n",
        "    clf.set_params(alpha=a)\n",
        "    clf.fit(X, y)\n",
        "    coefs.append(clf.coef_)\n",
        "    errors.append(np.mean(np.absolute(clf.predict(X_test_minmax_ploy) - test_y)))"
      ]
    },
    {
      "cell_type": "markdown",
      "metadata": {
        "id": "Yfo5GrBhFsb2"
      },
      "source": [
        "**Plot MAE versus lambda to see the effect of regularization**\n",
        "\n"
      ]
    },
    {
      "cell_type": "code",
      "execution_count": null,
      "metadata": {
        "colab": {
          "base_uri": "https://localhost:8080/",
          "height": 301
        },
        "id": "wJIRrSA6Fsb2",
        "outputId": "1baa2fdf-f5b6-4be8-ad65-43dd7cd83e1a"
      },
      "outputs": [
        {
          "output_type": "display_data",
          "data": {
            "text/plain": [
              "<Figure size 720x288 with 1 Axes>"
            ],
            "image/png": "[encoded data removed]"
          },
          "metadata": {
            "needs_background": "light"
          }
        }
      ],
      "source": [
        "plt.figure(figsize=(10, 4))\n",
        "\n",
        "\n",
        "ax = plt.gca()\n",
        "ax.plot(alphas, errors)\n",
        "ax.set_xscale('log')\n",
        "plt.xlabel('$\\lambda$')\n",
        "plt.ylabel('MAE (e)')\n",
        "plt.title('Coefficient error as a function of the regularization')\n",
        "plt.axis('tight')\n",
        "\n",
        "plt.show()"
      ]
    },
    {
      "cell_type": "markdown",
      "metadata": {
        "id": "r0xEqG6wFsb2"
      },
      "source": [
        "-   setting 10e-3 for `lambda` decreases the error\n",
        "-   but increasing more may give us a model with smaller weights in loss of accuracy\n",
        "\n"
      ]
    },
    {
      "cell_type": "markdown",
      "metadata": {
        "id": "A7HFLGVLFsb2"
      },
      "source": [
        "## Lasso with Python example\n",
        "\n"
      ]
    },
    {
      "cell_type": "markdown",
      "metadata": {
        "id": "xObttj3LFsb2"
      },
      "source": [
        "### Lasso regularization\n",
        "\n"
      ]
    },
    {
      "cell_type": "markdown",
      "metadata": {
        "id": "rXWh4dN5Fsb2"
      },
      "source": [
        "-   Lasso: Least absolute shrinkage and selection operator can be written as:\n",
        "\n",
        "\\begin{equation}\n",
        "\\begin{aligned}\n",
        "& \\underset{ \\mathbf{\\theta}}{\\min}\n",
        "& & \\left\\|  \\mathbf{y} - X  \\mathbf{\\theta} \\right\\|_2^2 + \\lambda \\| \\mathbf{\\theta}\\|_2\n",
        "\\end{aligned}\n",
        "\\label{eq:lasso_norm}\n",
        "\\end{equation}\n",
        "\n",
        "-   where $\\lambda$ is a positive scalar\n",
        "-   here the magnitude of $ \\mathbf{\\theta}$ is used not the square as in the ridge regression\n",
        "-   can help with overfitting and also with feature selection\n",
        "\n"
      ]
    },
    {
      "cell_type": "markdown",
      "metadata": {
        "id": "P96cHdqqFsb2"
      },
      "source": [
        "**Lasso regression**\n",
        "\n"
      ]
    },
    {
      "cell_type": "markdown",
      "metadata": {
        "id": "MkDq8tvvFsb3"
      },
      "source": [
        "-   LASSO is a regression method that also perform feature selection and regularization to improve the model's prediction accuracy.\n",
        "-   plan: choose the most significant feature from\n",
        "    -   multi-feature and\n",
        "    -   multi-feature with polynomial features\n",
        "\n"
      ]
    },
    {
      "cell_type": "markdown",
      "metadata": {
        "id": "w9K02OJDFsb3"
      },
      "source": [
        "### LASSO example in Python\n",
        "\n"
      ]
    },
    {
      "cell_type": "markdown",
      "metadata": {
        "id": "BvuFKTLBFsb3"
      },
      "source": [
        "-   import and fit to training data\n",
        "-   note $\\lambda$ above is defined as `alpha` in `sklearn` for lasso\n",
        "\n"
      ]
    },
    {
      "cell_type": "code",
      "execution_count": null,
      "metadata": {
        "colab": {
          "base_uri": "https://localhost:8080/"
        },
        "id": "_pe67mgSFsb3",
        "outputId": "d915d231-36e3-4d4d-991e-ef0d46658253"
      },
      "outputs": [
        {
          "output_type": "stream",
          "name": "stdout",
          "text": [
            "Coefficients:  [ 123.75916478 -124.56593184    0.           -0.        ]\n",
            "Intercept:  [211.21415757]\n"
          ]
        }
      ],
      "source": [
        "from sklearn import linear_model\n",
        "regr_Lasso_miso = linear_model.Lasso(alpha=0.2)\n",
        "regr_Lasso_miso.fit(X_train_minmax_miso, train_y)\n",
        "# The coefficients\n",
        "print ('Coefficients: ', regr_Lasso_miso.coef_)\n",
        "print ('Intercept: ',regr_Lasso_miso.intercept_)"
      ]
    },
    {
      "cell_type": "markdown",
      "metadata": {
        "id": "AAZ01FzBFsb3"
      },
      "source": [
        "**Lasso prediction for training data - linear model**\n",
        "\n"
      ]
    },
    {
      "cell_type": "code",
      "execution_count": null,
      "metadata": {
        "colab": {
          "base_uri": "https://localhost:8080/",
          "height": 331
        },
        "id": "uMjbHENAFsb3",
        "outputId": "280c83a4-bc69-4913-889b-af2ae8268e80"
      },
      "outputs": [
        {
          "output_type": "display_data",
          "data": {
            "text/plain": [
              "<Figure size 432x288 with 1 Axes>"
            ],
            "image/png": "[encoded data removed]"
          },
          "metadata": {
            "needs_background": "light"
          }
        },
        {
          "output_type": "stream",
          "name": "stdout",
          "text": [
            "Multi Feature (LASSO)- testing Mean absolute error: 71.00\n",
            "Multi Feature (LASSO)- testing Residual sum of squares (MSE): 8260.19\n",
            "Multi Feature (LASSO)- testing R2-score: 0.80\n"
          ]
        }
      ],
      "source": [
        "y_hat_regr_Lasso_miso_tr = regr_Lasso_miso.predict(X_train_minmax_miso) #training prediction\n",
        "y_hat_regr_Lasso_miso_ts = regr_Lasso_miso.predict(X_test_minmax_miso) #testing prediction\n",
        "\n",
        "plt.plot([100,350], [100, 350],  '-k')\n",
        "plt.scatter(train['NOx [ppm]'], y_hat_regr_Lasso_miso_tr,  color='blue', label='training')\n",
        "plt.scatter(test['NOx [ppm]'], y_hat_regr_Lasso_miso_ts,  color='red', label='testing')\n",
        "plt.xlabel(\"Exp NOx [ppm]\")\n",
        "plt.ylabel(\"Pred NOx [ppm]\")\n",
        "plt.legend()\n",
        "plt.gca().set_aspect('equal', adjustable='box')\n",
        "plt.show()\n",
        "\n",
        "print(\"Multi Feature (LASSO)- testing Mean absolute error: %.2f\" % np.mean(np.absolute(y_hat_regr_Lasso_miso_ts - test_y)))\n",
        "print(\"Multi Feature (LASSO)- testing Residual sum of squares (MSE): %.2f\" % np.mean((y_hat_regr_Lasso_miso_ts - test_y) ** 2))\n",
        "print(\"Multi Feature (LASSO)- testing R2-score: %.2f\" % r2_score(y_hat_regr_Lasso_miso_ts , test_y) )"
      ]
    },
    {
      "cell_type": "markdown",
      "metadata": {
        "id": "Y3eFINHbFsb4"
      },
      "source": [
        "**Lasso prediction for test data - linear model**\n",
        "\n"
      ]
    },
    {
      "cell_type": "code",
      "execution_count": null,
      "metadata": {
        "colab": {
          "base_uri": "https://localhost:8080/"
        },
        "id": "952CqOQjFsb4",
        "outputId": "a23a9ed3-5352-4569-d494-ba09bcd137c2"
      },
      "outputs": [
        {
          "output_type": "stream",
          "name": "stdout",
          "text": [
            "Multi Feature (LASSO)- training Mean absolute error: 76.34\n",
            "Multi Feature (LASSO)- training sum of squares (MSE): 8710.78\n",
            "Multi Feature (LASSO)- training R2-score: 0.88\n"
          ]
        }
      ],
      "source": [
        "print(\"Multi Feature (LASSO)- training Mean absolute error: %.2f\" % np.mean(np.absolute(y_hat_regr_Lasso_miso_tr - train_y)))\n",
        "print(\"Multi Feature (LASSO)- training sum of squares (MSE): %.2f\" % np.mean((y_hat_regr_Lasso_miso_tr - train_y) ** 2))\n",
        "print(\"Multi Feature (LASSO)- training R2-score: %.2f\" % r2_score(y_hat_regr_Lasso_miso_tr , train_y) )"
      ]
    },
    {
      "cell_type": "markdown",
      "metadata": {
        "id": "oCkNDIivFsb4"
      },
      "source": [
        "-   loss of accuracy, but now only one feature instead of four features\n",
        "\n"
      ]
    },
    {
      "cell_type": "markdown",
      "metadata": {
        "id": "8uLGMp92Fsb4"
      },
      "source": [
        "**Lasso prediction for training/test data - polynomial feature set**\n",
        "\n"
      ]
    },
    {
      "cell_type": "code",
      "execution_count": null,
      "metadata": {
        "colab": {
          "base_uri": "https://localhost:8080/"
        },
        "id": "K8B6ovUmFsb4",
        "outputId": "d514b6a0-a15d-4c2c-b5bb-45590895df24"
      },
      "outputs": [
        {
          "output_type": "stream",
          "name": "stdout",
          "text": [
            "Coefficients:  [   0.           31.8861682  -295.36770882    0.          -42.52937907\n",
            "   -0.         -244.08303227   -0.          339.28354084  220.37324001\n",
            "   -0.            0.           -0.            0.           -0.        ]\n",
            "Intercept:  [232.52169038]\n"
          ]
        }
      ],
      "source": [
        "regr_Lasso_poly = linear_model.Lasso(alpha=0.1, max_iter=5000)\n",
        "\n",
        "regr_Lasso_poly.fit(X_train_minmax_ploy, train_y)\n",
        "# The coefficients\n",
        "print ('Coefficients: ', regr_Lasso_poly.coef_)\n",
        "print ('Intercept: ',regr_Lasso_poly.intercept_)"
      ]
    },
    {
      "cell_type": "code",
      "execution_count": null,
      "metadata": {
        "colab": {
          "base_uri": "https://localhost:8080/",
          "height": 279
        },
        "id": "aVtuL3qMFsb4",
        "outputId": "f3a38ece-6c9f-46b5-e964-f7dae74a17a6"
      },
      "outputs": [
        {
          "output_type": "display_data",
          "data": {
            "text/plain": [
              "<Figure size 432x288 with 1 Axes>"
            ],
            "image/png": "[encoded data removed]"
          },
          "metadata": {
            "needs_background": "light"
          }
        }
      ],
      "source": [
        "y_hat_regr_Lasso_poly_tr = regr_Lasso_poly.predict(X_train_minmax_ploy) #training prediction\n",
        "y_hat_regr_Lasso_poly_ts = regr_Lasso_poly.predict(X_test_minmax_ploy) #testing prediction\n",
        "\n",
        "\n",
        "plt.plot([100,350], [100, 350],  '-k')\n",
        "plt.scatter(train['NOx [ppm]'], y_hat_regr_Lasso_poly_tr,  color='blue', label='training')\n",
        "plt.scatter(test['NOx [ppm]'], y_hat_regr_Lasso_poly_ts,  color='red', label='testing')\n",
        "plt.xlabel(\"Exp NOx [ppm]\")\n",
        "plt.ylabel(\"Pred NOx [ppm]\")\n",
        "plt.legend()\n",
        "plt.gca().set_aspect('equal', adjustable='box')\n",
        "plt.show()"
      ]
    },
    {
      "cell_type": "markdown",
      "metadata": {
        "id": "MTXj3fMpFsb4"
      },
      "source": [
        "**Compare multiple features with and without polynomial feature**"
      ]
    },
    {
      "cell_type": "code",
      "execution_count": null,
      "metadata": {
        "colab": {
          "base_uri": "https://localhost:8080/"
        },
        "id": "rtbTLx2PFsb5",
        "outputId": "908b4e1b-2080-4cb5-d29a-8f70cbe1dfa7"
      },
      "outputs": [
        {
          "output_type": "stream",
          "name": "stdout",
          "text": [
            "Multi Feature + polynomial (LASSO)- testing Mean absolute error: 72.40\n",
            "Multi Feature + polynomial (LASSO)- testing Residual sum of squares (MSE): 8530.03\n",
            "Multi Feature + polynomial (LASSO)- testing R2-score: 0.89\n"
          ]
        }
      ],
      "source": [
        "# test\n",
        "print(\"Multi Feature + polynomial (LASSO)- testing Mean absolute error: %.2f\" % np.mean(np.absolute(y_hat_regr_Lasso_poly_ts - test_y)))\n",
        "print(\"Multi Feature + polynomial (LASSO)- testing Residual sum of squares (MSE): %.2f\" % np.mean((y_hat_regr_Lasso_poly_ts - test_y) ** 2))\n",
        "print(\"Multi Feature + polynomial (LASSO)- testing R2-score: %.2f\" % r2_score(y_hat_regr_Lasso_poly_ts , test_y) )"
      ]
    },
    {
      "cell_type": "code",
      "execution_count": null,
      "metadata": {
        "colab": {
          "base_uri": "https://localhost:8080/"
        },
        "id": "14CjEcWdFsb5",
        "outputId": "1bb25877-769f-4d5c-8281-4ba00aa411d0"
      },
      "outputs": [
        {
          "output_type": "stream",
          "name": "stdout",
          "text": [
            "Multi Feature + polynomial (LASSO)- training Mean absolute error: 76.86\n",
            "Multi Feature + polynomial (LASSO)- training sum of squares (MSE): 8849.78\n",
            "Multi Feature + polynomial (LASSO)- training R2-score: 0.95\n"
          ]
        }
      ],
      "source": [
        "# training: \n",
        "print(\"Multi Feature + polynomial (LASSO)- training Mean absolute error: %.2f\" % np.mean(np.absolute(y_hat_regr_Lasso_poly_tr - train_y)))\n",
        "print(\"Multi Feature + polynomial (LASSO)- training sum of squares (MSE): %.2f\" % np.mean((y_hat_regr_Lasso_poly_tr - train_y) ** 2))\n",
        "print(\"Multi Feature + polynomial (LASSO)- training R2-score: %.2f\" % r2_score(y_hat_regr_Lasso_poly_tr , train_y) )"
      ]
    },
    {
      "cell_type": "markdown",
      "metadata": {
        "id": "2At18u7-Fsb5"
      },
      "source": [
        "-   for the polynomial feature set compared to the linear fit\n",
        "    -   four features were removed without significantly losing any accuracy\n",
        "\n"
      ]
    },
    {
      "cell_type": "markdown",
      "metadata": {
        "id": "VeF2RKHVFsb5"
      },
      "source": [
        "## Logistic Regression\n",
        "\n"
      ]
    },
    {
      "cell_type": "markdown",
      "metadata": {
        "id": "m-NQU1V7Fsb5"
      },
      "source": [
        "Logistic Regression is commonly used to\n",
        "\n"
      ]
    },
    {
      "cell_type": "markdown",
      "metadata": {
        "id": "MCZDM0whFsb5"
      },
      "source": [
        "-   estimate the probability that an instance belongs to a particular class\n",
        "-   (e.g., what is the probability that this email is spam?).\n",
        "-   If the estimated probability is greater than 50%,\n",
        "    -   then the model predicts that the instance belongs to that class\n",
        "    -   (called the positive class, labeled \\`\\`1''),\n",
        "    -   and otherwise it predicts that it does not\n",
        "    -   (i.e., it belongs to the negative class, labeled \\`\\`0'').\n",
        "-   This makes it a binary classifier.\n",
        "\n"
      ]
    },
    {
      "cell_type": "markdown",
      "metadata": {
        "id": "G4Q0Wb-KFsb5"
      },
      "source": [
        "### Details of Logistic Regression\n",
        "\n"
      ]
    },
    {
      "cell_type": "markdown",
      "metadata": {
        "id": "LNvtEDyLFsb5"
      },
      "source": [
        "-   Just like a Linear Regression model, a Logistic Regression model computes a weighted sum of the input features (plus a bias term),\n",
        "-   but instead of outputting the result directly like the Linear Regression model does,\n",
        "-   it outputs the logistic of this result\n",
        "\n",
        "\\begin{equation}\n",
        "    \\hat{y} = \\sigma (w^T x + b)\n",
        "\\end{equation}\n",
        "\n",
        "-   where $ \\sigma$ is sigmoid function defined as\n",
        "\n",
        "\\begin{equation}\\label{eq:sig}\n",
        "\\begin{split}\n",
        "\\sigma(z) & = \\frac{1}{1 + e^{-z}} \\\\\n",
        "\\frac{d}{dz} \\sigma(z) & = \\sigma(z) (1 - \\sigma(z))\n",
        "\\end{split}\n",
        "\\end{equation}\n",
        "\n",
        "-   Notice that $\\sigma(z)<0.5$ when $z < 0$, and $\\sigma(z) \\leq 0.5$ when $z \\leq 0$,\n",
        "    -   so a Logistic Regression model predicts 1 if $x^T \\theta$ is positive\n",
        "    -   and 0 if it is negative.\n",
        "-   for given data set of $ {(x^{(1)},y^{(1)}), ..., (x^{(m)},y^{(m)})} $,\n",
        "\n"
      ]
    },
    {
      "cell_type": "markdown",
      "metadata": {
        "id": "gU4rN1WLFsb5"
      },
      "source": [
        "**cost function**\n",
        "\n"
      ]
    },
    {
      "cell_type": "markdown",
      "metadata": {
        "id": "vOuNaL_IFsb6"
      },
      "source": [
        "-   the cost function of Logistic Regression can be defined as\n",
        "\n",
        "\\begin{equation}\n",
        "    J = L(\\hat{y}, y) = -\\frac{1}{m}\\sum_{i=1}^{m} (y^{(i)}\\log(\\hat{y}^{(i)})+(1-y^{(i)})\\log(1-\\hat{y}^{(i)}))\n",
        "\\end{equation}\n",
        "\n",
        "-   where $ i$ represent training data index.\n",
        "-   This cost function makes sense because $ -\\log(z) $ grows very large when z approaches 0,\n",
        "-   so the cost will be large if the model estimates a probability close to 0 for a positive instance,\n",
        "-   and it will also be very large if the model estimates a probability close to 1 for a negative instance.\n",
        "-   On the other hand, $ -\\log(z) $ is close to 0 when $ z $ is close to 1,\n",
        "-   so the cost will be close to 0 if the estimated probability is close to 0 for a negative instance\n",
        "-   or close to 1 for a positive instance,\n",
        "-   which is precisely what we want.\n",
        "\n"
      ]
    },
    {
      "cell_type": "markdown",
      "metadata": {
        "id": "ZPHTkmRWFsb6"
      },
      "source": [
        "**Equation derivation for a single data set**\n",
        "\n"
      ]
    },
    {
      "cell_type": "markdown",
      "metadata": {
        "id": "rfevKyCCFsb6"
      },
      "source": [
        "-   derive equation first for single data set\n",
        "-   later we need to run these equation if `for` loop for all equations.\n",
        "-   In this case, $m = 1$ and cost function equals to loss function.\n",
        "\n",
        "\\begin{equation}\n",
        "J(w, b) = L(\\hat{Y}, y)\n",
        "\\end{equation}\n",
        "\n",
        "-   and as $\\hat{y} = a$, loss function is\n",
        "\n",
        "\\begin{equation}\n",
        "J(w, b) = L(a, y)\n",
        "\\end{equation}\n",
        "\n",
        "-   To find $dw$ we need to calculated derivate of cost function with respect to $w$:\n",
        "\n",
        "\\begin{equation}\n",
        "dw = \\frac{\\partial L(a, y)}{ \\partial w}\n",
        "\\end{equation}\n",
        "\n",
        "-   Based of rule of chain this derivative can be rewritten as\n",
        "\n",
        "\\begin{equation}\n",
        "dw = \\frac{\\partial L(a, y)}{ \\partial a} \\frac{\\partial a}{ \\partial z} \\frac{\\partial z}{ \\partial w}\n",
        "\\end{equation}\n",
        "\n",
        "-   define $da$ and $dz$ as\n",
        "\n",
        "\\begin{equation}\n",
        "da = \\frac{\\partial L(a, y)}{ \\partial a}\n",
        "\\end{equation}\n",
        "\n",
        "\\begin{equation}\\label{dz}\n",
        "dz = \\frac{\\partial L(a, y)}{ \\partial a} \\frac{\\partial a}{ \\partial z}\n",
        "\\end{equation}\n",
        "\n",
        "-   now first calculate $da$ using the logistic loss function\n",
        "\n",
        "\\begin{equation} \\label{da}\n",
        "\\begin{split}\n",
        "da &= \\frac{\\partial}{ \\partial a} (-y \\log(a) - (1-y) \\log(1-a))\\\\\n",
        "& = \\frac{-y}{a} + \\frac{1-y}{1-a}\n",
        "\\end{split}\n",
        "\\end{equation}\n",
        "\n",
        "Then using Eq. \\ref{dz} and using sigmoid function, $a = \\sigma(z)$\n",
        "$dz$ can be calculated as\n",
        "\n",
        "\\begin{equation}\\label{dz2}\n",
        "\\begin{split}\n",
        "dz &= \\frac{\\partial L(a, y)}{ \\partial a} \\frac{\\partial a}{ \\partial z}\\\\\n",
        "&= da \\frac{\\partial a}{ \\partial z}\\\\\n",
        "&=da (a)(1-a)\n",
        "\\end{split}\n",
        "\\end{equation}\n",
        "\n",
        "-   Substituting Eq. \\ref{da} in Eq. \\ref{dz2}, $da$ can be simplified as\n",
        "\n",
        "\\begin{equation}\\label{dz3}\n",
        "\\begin{split}\n",
        "dz&=\\frac{-y}{a} + \\frac{1-y}{1-a} (a)(1-a) \\\\\n",
        "&= a - y\n",
        "\\end{split}\n",
        "\\end{equation}\n",
        "\n",
        "-   finally, substitute $\\partial z / \\partial w = x$, and $dw$ can be found as\n",
        "\n",
        "\\begin{equation}\\label{dw}\n",
        "\\begin{split}\n",
        "dz&= a - y\\\\\n",
        "dw &= dz.x\n",
        "\\end{split}\n",
        "\\end{equation}\n",
        "\n"
      ]
    },
    {
      "cell_type": "markdown",
      "metadata": {
        "id": "Jdug3nXiFsb6"
      },
      "source": [
        "**one iteration of gradient descent**\n",
        "\n"
      ]
    },
    {
      "cell_type": "markdown",
      "metadata": {
        "id": "wGY3kG1uFsb6"
      },
      "source": [
        "-   the following `for` loop need to go through to $m$ cases to cover all data set as\n",
        "\n",
        "\\begin{equation}\\label{eq:for}\n",
        "\\begin{split}\n",
        "    &\\text{for j = 1 to m  }\\\\\n",
        "& ~~~~~ z^{(i)} = w^Tx^{(i)} + b\\\\\n",
        "& ~~~~~ a^{(i)} = \\sigma(z^{(i)})\\\\\n",
        "& ~~~~~ J = (y^{(i)}\\log(\\hat{y}^{(i)})+(1-y^{(i)})\\log(1-\\hat{y}^{(i)})) \\\\\n",
        "& ~~~~~ dz^{(i)} = a^{(i)}-y^{(i)}      \\\\\n",
        "& ~~~~~ dw^{(i)} = x^{(i)} dz^{(i)}      \\\\\n",
        "& ~~~~~ db^{(i)} = dz^{(i)}     \\\\\n",
        "&J = J/m      \\\\\n",
        "&dw = dw/m       \\\\\n",
        "&db = db /m     \\\\\n",
        "\\end{split}\n",
        "\\end{equation}\n",
        "\n",
        "-   In the gradient descent loop\n",
        "    -   both $ w $  and $b$ are updated based on gradient descent as\n",
        "\n",
        "\\begin{equation}\\label{gd}\n",
        "\\begin{split}\n",
        "w&= w - \\alpha~dw\\\\\n",
        "b&= b - \\alpha~db\\\\\n",
        "\\end{split}\n",
        "\\end{equation}\n",
        "\n"
      ]
    },
    {
      "cell_type": "markdown",
      "metadata": {
        "id": "6CRI7E0GFsb6"
      },
      "source": [
        "**Vectorized Logistic Regression**\n",
        "\n"
      ]
    },
    {
      "cell_type": "markdown",
      "metadata": {
        "id": "TCf4GGDlFsb7"
      },
      "source": [
        "-   by stacking this for loop horizontally into a vector, Logistic Regression can be vectorized as\n",
        "\n",
        "\\begin{equation}\\label{derivatesVector}\n",
        "\\begin{split}\n",
        "Z &= w^T X + b \\\\\n",
        "A &= \\sigma(Z) \\\\\n",
        "dZ &= A - Y\\\\\n",
        "dW &= \\frac{1}{m} X~dZ^T \\\\\n",
        "db &= \\frac{1}{m} \\sum_{i=1}^m  dZ\\\\\n",
        "\\end{split}\n",
        "\\end{equation}\n",
        "\n",
        "-   then the two `for` loops can be reduced to one `for` loop gradient descent as\n",
        "\n",
        "\\begin{equation}\\label{eq:forvec}\n",
        "\\begin{split}\n",
        "    &\\text{for j = 1 to maximum iteration  }\\\\\n",
        "&~~~~~ Z = w^T X + b \\\\\n",
        "&~~~~~ A = \\sigma(Z) \\\\\n",
        "&~~~~~ dZ = A - Y\\\\\n",
        "&~~~~~ dW = \\frac{1}{m} X~dZ^T \\\\\n",
        "&~~~~~ db = \\frac{1}{m} \\sum_{i=1}^m  dZ\\\\\n",
        "&~~~~~w = w - \\alpha~dw\\\\\n",
        "&~~~~~b = b - \\alpha~db\\\\\n",
        "\\end{split}\n",
        "\\end{equation}\n",
        "\n"
      ]
    },
    {
      "cell_type": "markdown",
      "metadata": {
        "id": "5ONkGgSoFsb7"
      },
      "source": [
        "### Logistic Regression example in Python\n",
        "\n"
      ]
    },
    {
      "cell_type": "markdown",
      "metadata": {
        "id": "lZsFrS0hFsb7"
      },
      "source": [
        "**Import python Libraries**\n",
        "\n"
      ]
    },
    {
      "cell_type": "code",
      "execution_count": null,
      "metadata": {
        "id": "ljKJ6CF3Fsb7"
      },
      "outputs": [],
      "source": [
        "import pandas as pd\n",
        "import numpy as np\n",
        "import math\n",
        "import operator\n",
        "import matplotlib.pyplot as plt\n",
        "%matplotlib inline\n",
        "\n",
        "import numpy as np\n",
        "import matplotlib.pyplot as plt\n",
        "import h5py\n",
        "import scipy\n",
        "from PIL import Image\n",
        "from scipy import ndimage"
      ]
    },
    {
      "cell_type": "markdown",
      "metadata": {
        "id": "If55k-H2Fsb7"
      },
      "source": [
        "**Import the data and show the top**\n",
        "\n"
      ]
    },
    {
      "cell_type": "markdown",
      "metadata": {
        "id": "elrgjzgqFsb7"
      },
      "source": [
        "NOx over 200 ppm is high\n",
        "\n"
      ]
    },
    {
      "cell_type": "code",
      "execution_count": null,
      "metadata": {
        "colab": {
          "base_uri": "https://localhost:8080/",
          "height": 206
        },
        "id": "5FKhwwW-Fsb7",
        "outputId": "fe2a8771-bfb8-43ab-cfff-638aaa875459"
      },
      "outputs": [
        {
          "output_type": "execute_result",
          "data": {
            "text/plain": [
              "   Load [ft.lb]  Engine speed [rpm]  mf [mg/stroke]     Pr [PSI]   NOx [ppm]  \\\n",
              "0            50         2502.400000       31.222326  15285.16744  103.899724   \n",
              "1            50         2248.666667       30.116667  15155.13333  112.610181   \n",
              "2            75         2502.000000       38.300000  15356.00000  114.789893   \n",
              "3           100         2504.000000       42.900000  15296.00000  125.411970   \n",
              "4            75         2262.000000       34.100000  15254.00000  126.524679   \n",
              "\n",
              "   High NOx  \n",
              "0         0  \n",
              "1         0  \n",
              "2         0  \n",
              "3         0  \n",
              "4         0  "
            ],
            "text/html": [
              "\n",
              "  <div id=\"df-97730caf-a09e-4bf1-9128-58e8320c2c12\">\n",
              "    <div class=\"colab-df-container\">\n",
              "      <div>\n",
              "<style scoped>\n",
              "    .dataframe tbody tr th:only-of-type {\n",
              "        vertical-align: middle;\n",
              "    }\n",
              "\n",
              "    .dataframe tbody tr th {\n",
              "        vertical-align: top;\n",
              "    }\n",
              "\n",
              "    .dataframe thead th {\n",
              "        text-align: right;\n",
              "    }\n",
              "</style>\n",
              "<table border=\"1\" class=\"dataframe\">\n",
              "  <thead>\n",
              "    <tr style=\"text-align: right;\">\n",
              "      <th></th>\n",
              "      <th>Load [ft.lb]</th>\n",
              "      <th>Engine speed [rpm]</th>\n",
              "      <th>mf [mg/stroke]</th>\n",
              "      <th>Pr [PSI]</th>\n",
              "      <th>NOx [ppm]</th>\n",
              "      <th>High NOx</th>\n",
              "    </tr>\n",
              "  </thead>\n",
              "  <tbody>\n",
              "    <tr>\n",
              "      <th>0</th>\n",
              "      <td>50</td>\n",
              "      <td>2502.400000</td>\n",
              "      <td>31.222326</td>\n",
              "      <td>15285.16744</td>\n",
              "      <td>103.899724</td>\n",
              "      <td>0</td>\n",
              "    </tr>\n",
              "    <tr>\n",
              "      <th>1</th>\n",
              "      <td>50</td>\n",
              "      <td>2248.666667</td>\n",
              "      <td>30.116667</td>\n",
              "      <td>15155.13333</td>\n",
              "      <td>112.610181</td>\n",
              "      <td>0</td>\n",
              "    </tr>\n",
              "    <tr>\n",
              "      <th>2</th>\n",
              "      <td>75</td>\n",
              "      <td>2502.000000</td>\n",
              "      <td>38.300000</td>\n",
              "      <td>15356.00000</td>\n",
              "      <td>114.789893</td>\n",
              "      <td>0</td>\n",
              "    </tr>\n",
              "    <tr>\n",
              "      <th>3</th>\n",
              "      <td>100</td>\n",
              "      <td>2504.000000</td>\n",
              "      <td>42.900000</td>\n",
              "      <td>15296.00000</td>\n",
              "      <td>125.411970</td>\n",
              "      <td>0</td>\n",
              "    </tr>\n",
              "    <tr>\n",
              "      <th>4</th>\n",
              "      <td>75</td>\n",
              "      <td>2262.000000</td>\n",
              "      <td>34.100000</td>\n",
              "      <td>15254.00000</td>\n",
              "      <td>126.524679</td>\n",
              "      <td>0</td>\n",
              "    </tr>\n",
              "  </tbody>\n",
              "</table>\n",
              "</div>\n",
              "      <button class=\"colab-df-convert\" onclick=\"convertToInteractive('df-97730caf-a09e-4bf1-9128-58e8320c2c12')\"\n",
              "              title=\"Convert this dataframe to an interactive table.\"\n",
              "              style=\"display:none;\">\n",
              "        \n",
              "  <svg xmlns=\"http://www.w3.org/2000/svg\" height=\"24px\"viewBox=\"0 0 24 24\"\n",
              "       width=\"24px\">\n",
              "    <path d=\"M0 0h24v24H0V0z\" fill=\"none\"/>\n",
              "    <path d=\"M18.56 5.44l.94 2.06.94-2.06 2.06-.94-2.06-.94-.94-2.06-.94 2.06-2.06.94zm-11 1L8.5 8.5l.94-2.06 2.06-.94-2.06-.94L8.5 2.5l-.94 2.06-2.06.94zm10 10l.94 2.06.94-2.06 2.06-.94-2.06-.94-.94-2.06-.94 2.06-2.06.94z\"/><path d=\"M17.41 7.96l-1.37-1.37c-.4-.4-.92-.59-1.43-.59-.52 0-1.04.2-1.43.59L10.3 9.45l-7.72 7.72c-.78.78-.78 2.05 0 2.83L4 21.41c.39.39.9.59 1.41.59.51 0 1.02-.2 1.41-.59l7.78-7.78 2.81-2.81c.8-.78.8-2.07 0-2.86zM5.41 20L4 18.59l7.72-7.72 1.47 1.35L5.41 20z\"/>\n",
              "  </svg>\n",
              "      </button>\n",
              "      \n",
              "  <style>\n",
              "    .colab-df-container {\n",
              "      display:flex;\n",
              "      flex-wrap:wrap;\n",
              "      gap: 12px;\n",
              "    }\n",
              "\n",
              "    .colab-df-convert {\n",
              "      background-color: #E8F0FE;\n",
              "      border: none;\n",
              "      border-radius: 50%;\n",
              "      cursor: pointer;\n",
              "      display: none;\n",
              "      fill: #1967D2;\n",
              "      height: 32px;\n",
              "      padding: 0 0 0 0;\n",
              "      width: 32px;\n",
              "    }\n",
              "\n",
              "    .colab-df-convert:hover {\n",
              "      background-color: #E2EBFA;\n",
              "      box-shadow: 0px 1px 2px rgba(60, 64, 67, 0.3), 0px 1px 3px 1px rgba(60, 64, 67, 0.15);\n",
              "      fill: #174EA6;\n",
              "    }\n",
              "\n",
              "    [theme=dark] .colab-df-convert {\n",
              "      background-color: #3B4455;\n",
              "      fill: #D2E3FC;\n",
              "    }\n",
              "\n",
              "    [theme=dark] .colab-df-convert:hover {\n",
              "      background-color: #434B5C;\n",
              "      box-shadow: 0px 1px 3px 1px rgba(0, 0, 0, 0.15);\n",
              "      filter: drop-shadow(0px 1px 2px rgba(0, 0, 0, 0.3));\n",
              "      fill: #FFFFFF;\n",
              "    }\n",
              "  </style>\n",
              "\n",
              "      <script>\n",
              "        const buttonEl =\n",
              "          document.querySelector('#df-97730caf-a09e-4bf1-9128-58e8320c2c12 button.colab-df-convert');\n",
              "        buttonEl.style.display =\n",
              "          google.colab.kernel.accessAllowed ? 'block' : 'none';\n",
              "\n",
              "        async function convertToInteractive(key) {\n",
              "          const element = document.querySelector('#df-97730caf-a09e-4bf1-9128-58e8320c2c12');\n",
              "          const dataTable =\n",
              "            await google.colab.kernel.invokeFunction('convertToInteractive',\n",
              "                                                     [key], {});\n",
              "          if (!dataTable) return;\n",
              "\n",
              "          const docLinkHtml = 'Like what you see? Visit the ' +\n",
              "            '<a target=\"_blank\" href=https://colab.research.google.com/notebooks/data_table.ipynb>data table notebook</a>'\n",
              "            + ' to learn more about interactive tables.';\n",
              "          element.innerHTML = '';\n",
              "          dataTable['output_type'] = 'display_data';\n",
              "          await google.colab.output.renderOutput(dataTable, element);\n",
              "          const docLink = document.createElement('div');\n",
              "          docLink.innerHTML = docLinkHtml;\n",
              "          element.appendChild(docLink);\n",
              "        }\n",
              "      </script>\n",
              "    </div>\n",
              "  </div>\n",
              "  "
            ]
          },
          "metadata": {},
          "execution_count": 63
        }
      ],
      "source": [
        "data = pd.read_csv('https://raw.githubusercontent.com/arminnorouzi/ML-developed_course/main/Data/Engine_NOx_classification.csv') # You need to set it to your path\n",
        "data.head()"
      ]
    },
    {
      "cell_type": "markdown",
      "metadata": {
        "id": "laUESFi8Fsb7"
      },
      "source": [
        "**Set training and test data and plot training**\n",
        "\n"
      ]
    },
    {
      "cell_type": "code",
      "execution_count": null,
      "metadata": {
        "id": "b525F-OrFsb8"
      },
      "outputs": [],
      "source": [
        "cdf = data[['Load [ft.lb]','Engine speed [rpm]','mf [mg/stroke]','Pr [PSI]', 'High NOx']]\n",
        "\n",
        "msk = np.random.rand(len(data)) < 0.8\n",
        "train = cdf[msk]\n",
        "test = cdf[~msk]"
      ]
    },
    {
      "cell_type": "code",
      "execution_count": null,
      "metadata": {
        "colab": {
          "base_uri": "https://localhost:8080/",
          "height": 299
        },
        "id": "o9qau6_wFsb8",
        "outputId": "92bab22f-5e5c-4f6f-e5bc-eea2471c3479"
      },
      "outputs": [
        {
          "output_type": "execute_result",
          "data": {
            "text/plain": [
              "Text(0, 0.5, 'Engine speed [rpm]')"
            ]
          },
          "metadata": {},
          "execution_count": 65
        },
        {
          "output_type": "display_data",
          "data": {
            "text/plain": [
              "<Figure size 720x288 with 1 Axes>"
            ],
            "image/png": "[encoded data removed]"
          },
          "metadata": {
            "needs_background": "light"
          }
        }
      ],
      "source": [
        "colors = {0: 'blue', 1:'red', 2:'green', 3:'coral', 4:'orange', 5:'black'}\n",
        "\n",
        "area = 150\n",
        "# area = 200\n",
        "plt.figure(1, figsize=(10, 4))\n",
        "plt.scatter(train['Load [ft.lb]'], train['Engine speed [rpm]'], s=area, c=np.array(train['High NOx'].map(colors).tolist()), alpha=1)\n",
        "\n",
        "plt.xlabel('Load [ft.lb]', fontsize=12)\n",
        "plt.ylabel('Engine speed [rpm]', fontsize=12)"
      ]
    },
    {
      "cell_type": "markdown",
      "metadata": {
        "id": "podpUmH5Fsb8"
      },
      "source": [
        "**Plot test data**\n",
        "\n"
      ]
    },
    {
      "cell_type": "code",
      "execution_count": null,
      "metadata": {
        "colab": {
          "base_uri": "https://localhost:8080/",
          "height": 299
        },
        "id": "G5cQ-nijFsb8",
        "outputId": "5388feef-7e50-41bf-9bc1-82f37d0c1f1d"
      },
      "outputs": [
        {
          "output_type": "execute_result",
          "data": {
            "text/plain": [
              "Text(0, 0.5, 'Engine speed [rpm]')"
            ]
          },
          "metadata": {},
          "execution_count": 66
        },
        {
          "output_type": "display_data",
          "data": {
            "text/plain": [
              "<Figure size 720x288 with 1 Axes>"
            ],
            "image/png": "[encoded data removed]"
          },
          "metadata": {
            "needs_background": "light"
          }
        }
      ],
      "source": [
        "area = 300\n",
        "# area = 200\n",
        "plt.figure(1, figsize=(10, 4))\n",
        "plt.scatter(test['Load [ft.lb]'], test['Engine speed [rpm]'], s=area, c=np.array(test['High NOx'].map(colors).tolist()), alpha=1)\n",
        "\n",
        "plt.xlabel('Load [ft.lb]', fontsize=12)\n",
        "plt.ylabel('Engine speed [rpm]', fontsize=12)"
      ]
    },
    {
      "cell_type": "markdown",
      "metadata": {
        "id": "0QbT5ExfFsb8"
      },
      "source": [
        "**Logistic Regression classifier using equations**\n",
        "\n"
      ]
    },
    {
      "cell_type": "markdown",
      "metadata": {
        "id": "Dye6XSIkFsb8"
      },
      "source": [
        "**Helper functions**\n",
        "\n"
      ]
    },
    {
      "cell_type": "markdown",
      "metadata": {
        "id": "-PfBx0yRFsb8"
      },
      "source": [
        "-   Using your code from \\`\\`Python Basics'', implement `sigmoid()`\n",
        "-   As you've seen in the figure above, you need to compute $sigmoid( w^T x + b) = \\frac{1}{1 + e^{-(w^T x + b)}}$ to make predictions. Use `np.exp()`\n",
        "\n"
      ]
    },
    {
      "cell_type": "code",
      "execution_count": null,
      "metadata": {
        "id": "GjrJt1urFsb8"
      },
      "outputs": [],
      "source": [
        "def sigmoid(z):\n",
        "    \"\"\"\n",
        "    Compute the sigmoid of z\n",
        "\n",
        "    z -- A scalar or numpy array of any size\n",
        "    s -- sigmoid(z)\n",
        "    \"\"\"\n",
        "    s = 1/(1 + np.exp(-z))\n",
        "    \n",
        "    return s"
      ]
    },
    {
      "cell_type": "markdown",
      "metadata": {
        "id": "PgnPX529Fsb8"
      },
      "source": [
        "**Initializing parameters**\n",
        "\n"
      ]
    },
    {
      "cell_type": "markdown",
      "metadata": {
        "id": "z54Rt47xFsb8"
      },
      "source": [
        "-   parameter initialization is implemented in the cell below.\n",
        "-   You have to initialize $w$ and $b$ as a vector of zeros.\n",
        "-   this numpy function to use, check `np.zeros()` in the `Numpy` library's documentation.\n",
        "\n"
      ]
    },
    {
      "cell_type": "code",
      "execution_count": null,
      "metadata": {
        "id": "UB80QFgTFsb9"
      },
      "outputs": [],
      "source": [
        "def initialize_with_zeros(dim):\n",
        "    \"\"\"\n",
        "    This function creates a vector of zeros of shape (dim, 1) for w and initializes b to 0.\n",
        "\n",
        "    dim -- size of the w vector we want (or number of parameters in this case)\n",
        "    w -- initialized vector of shape (dim, 1)\n",
        "    b -- initialized scalar (corresponds to the bias)\n",
        "    \"\"\"\n",
        "    \n",
        "    w = np.zeros((dim,1))\n",
        "    b = 0\n",
        "    return w, b"
      ]
    },
    {
      "cell_type": "markdown",
      "metadata": {
        "id": "5t-mnL2MFsb9"
      },
      "source": [
        "**Forward and Backward propagation**\n",
        "\n"
      ]
    },
    {
      "cell_type": "markdown",
      "metadata": {
        "id": "Y_JB0VW5Fsb9"
      },
      "source": [
        "-   Now that your parameters are initialized, you can do the \\`\\`forward'' and \\`\\`backward'' propagation steps for learning the parameters.\n",
        "\n",
        "-   Implement a function `propagate()` that computes the cost function and its gradient.\n",
        "-   Forward Propagation:\n",
        "    -   You get $X$\n",
        "    -   You compute $A = \\sigma(w^T X + b) = (a^{(1)}, a^{(2)}, \\dots , a^{(m-1)}, a^{(m)})$\n",
        "    -   You calculate the cost function: $J = \\frac{1}{m}\\sum_{i=1}^{m}y^{(i)}\\log(a^{(i)})+(1-y^{(i)})\\log(1-a^{(i)})$\n",
        "-   these are the two equations you will be using:\n",
        "\n",
        "$$ \\frac{\\partial J}{\\partial w} = \\frac{1}{m}X(A-Y)^T\\tag{7}$$\n",
        "$$ \\frac{\\partial J}{\\partial b} = \\frac{1}{m} \\sum_{i=1}^m (a^{(i)}-y^{(i)})\\tag{8}$$\n",
        "\n"
      ]
    },
    {
      "cell_type": "markdown",
      "metadata": {
        "id": "14YooMZQFsb9"
      },
      "source": [
        "**Function propagate with gradient**\n",
        "\n"
      ]
    },
    {
      "cell_type": "code",
      "execution_count": null,
      "metadata": {
        "id": "uwZrACypFsb9"
      },
      "outputs": [],
      "source": [
        "def propagate(w, b, X, Y):\n",
        "    \"\"\"\n",
        "    Implement the cost function and its gradient for the propagation explained above\n",
        "\n",
        "    w -- weights, a numpy array of size (num_px * num_px * 3, 1)\n",
        "    b -- bias, a scalar\n",
        "    X -- data of size (num_px * num_px * 3, number of examples)\n",
        "    Y -- true \"label\" vector (containing 0 if non-cat, 1 if cat) of size (1, number of examples)\n",
        "    cost -- negative log-likelihood cost for logistic regression\n",
        "    dw -- gradient of the loss with respect to w, thus same shape as w\n",
        "    db -- gradient of the loss with respect to b, thus same shape as b\n",
        "\n",
        "    \"\"\"\n",
        "    \n",
        "    m = X.shape[1]\n",
        "    \n",
        "    # FORWARD PROPAGATION (FROM X TO COST)\n",
        "    A = sigmoid(np.dot(w.T,X) + b)                                        # compute activation\n",
        "    cost = (-1/m) * np.sum(Y*np.log(A) + (1-Y)*np.log(1-A), axis=1)       # compute cost\n",
        "    \n",
        "    # BACKWARD PROPAGATION (TO FIND GRAD)\n",
        "    dw = (1/m)*np.dot(X,(A-Y).T)\n",
        "    db = (1/m)*np.sum((A-Y), axis=1)\n",
        "\n",
        "    cost = np.squeeze(cost)\n",
        "\n",
        "    grads = {\"dw\": dw,\n",
        "             \"db\": db}\n",
        "    \n",
        "    return grads, cost"
      ]
    },
    {
      "cell_type": "markdown",
      "metadata": {
        "id": "eLsnLzcBFsb9"
      },
      "source": [
        "**Optimization**\n",
        "\n"
      ]
    },
    {
      "cell_type": "markdown",
      "metadata": {
        "id": "u6q8NTozFsb9"
      },
      "source": [
        "-   define the cost function\n",
        "-   have initialized your parameters\n",
        "-   so able to compute a cost function and its gradient\n",
        "-   Now, update the parameters using gradient descent\n",
        "-   The goal is to learn $w$ and $b$ by minimizing the cost function $J$\n",
        "-   For a parameter $\\theta$, the update is $ \\theta = \\theta - \\alpha \\; d\\theta$\n",
        "-   where $\\alpha$ is the learning rate.\n",
        "\n"
      ]
    },
    {
      "cell_type": "markdown",
      "metadata": {
        "id": "gPvH6OZGFsb9"
      },
      "source": [
        "**Optimization Function**\n",
        "\n"
      ]
    },
    {
      "cell_type": "code",
      "execution_count": null,
      "metadata": {
        "id": "NoHioyerFsb9"
      },
      "outputs": [],
      "source": [
        "def optimize(w, b, X, Y, num_iterations, learning_rate, print_cost = False):\n",
        "    \"\"\"\n",
        "    This function optimizes w and b by running a gradient descent algorithm\n",
        "    \n",
        "    w -- weights, a numpy array of size (num_px * num_px * 3, 1)\n",
        "    b -- bias, a scalar\n",
        "    X -- data of shape (num_px * num_px * 3, number of examples)\n",
        "    Y -- true \"label\" vector (containing 0 if non-cat, 1 if cat), of shape (1, number of examples)\n",
        "    num_iterations -- number of iterations of the optimization loop\n",
        "    learning_rate -- learning rate of the gradient descent update rule\n",
        "    print_cost -- True to print the loss every 100 steps\n",
        "    params -- dictionary containing the weights w and bias b\n",
        "    grads -- dictionary containing the gradients of the weights and bias with respect to the cost function\n",
        "    costs -- list of all the costs computed during the optimization, this will be used to plot the learning curve.\n",
        "    \n",
        "    \"\"\"\n",
        "    \n",
        "    costs = []\n",
        "    \n",
        "    for i in range(num_iterations):\n",
        "        \n",
        "        \n",
        "        # Cost and gradient calculation (approx 1-4 lines of code)\n",
        "\n",
        "        grads, cost = propagate(w, b, X, Y)\n",
        "\n",
        "        \n",
        "        # Retrieve derivatives from grads\n",
        "        dw = grads[\"dw\"]\n",
        "        db = grads[\"db\"]\n",
        "        \n",
        "        # update rule (approx 2 lines of code)\n",
        "\n",
        "        w = w - learning_rate*dw\n",
        "        b = b - learning_rate*db\n",
        "\n",
        "        \n",
        "        # Record the costs\n",
        "        if i % 100 == 0:\n",
        "            costs.append(cost)\n",
        "        \n",
        "        # Print the cost every 100 training iterations\n",
        "        if print_cost and i % 100 == 0:\n",
        "            print (\"Cost after iteration %i: %f\" %(i, cost))\n",
        "    \n",
        "    params = {\"w\": w,\n",
        "              \"b\": b}\n",
        "    \n",
        "    grads = {\"dw\": dw,\n",
        "             \"db\": db}\n",
        "    \n",
        "    return params, grads, costs"
      ]
    },
    {
      "cell_type": "markdown",
      "metadata": {
        "id": "rmYFcVvOFsb-"
      },
      "source": [
        "**Predict if the label is 0 or 1 using logistic regression**\n",
        "\n"
      ]
    },
    {
      "cell_type": "code",
      "execution_count": null,
      "metadata": {
        "id": "7lSZWmuCFsb-"
      },
      "outputs": [],
      "source": [
        "def predict(w, b, X):\n",
        "    '''\n",
        "    Predict whether the label is 0 or 1 using learned logistic regression parameters (w, b)\n",
        "\n",
        "    w -- weights, a numpy array of size (num_px * num_px * 3, 1)\n",
        "    b -- bias, a scalar\n",
        "    X -- data of size (num_px * num_px * 3, number of examples)\n",
        "    Y_prediction -- a numpy array (vector) containing all predictions (0/1) for the examples in X\n",
        "    '''\n",
        "    \n",
        "    m = X.shape[1]\n",
        "    Y_prediction = np.zeros((1,m))\n",
        "    w = w.reshape(X.shape[0], 1)\n",
        "    \n",
        "    # Compute vector \"A\" predicting the probabilities of a cat being present in the picture\n",
        "\n",
        "    A = sigmoid(np.dot(w.T,X) + b)  \n",
        "\n",
        "    \n",
        "    for i in range(A.shape[1]):\n",
        "        \n",
        "        # Convert probabilities A[0,i] to actual predictions p[0,i]\n",
        "\n",
        "        if  A[0,i] < 0.5:\n",
        "            Y_prediction[0, i] = 0\n",
        "        else:\n",
        "            Y_prediction[0, i] = 1\n",
        "\n",
        "\n",
        "    \n",
        "    return Y_prediction"
      ]
    },
    {
      "cell_type": "markdown",
      "metadata": {
        "id": "OjsON8HkFsb-"
      },
      "source": [
        "**Merge all functions into a model**\n",
        "\n"
      ]
    },
    {
      "cell_type": "markdown",
      "metadata": {
        "id": "LjclGoqLFsb-"
      },
      "source": [
        "-   You will now see how the overall model is structured by\n",
        "-   putting together all the building blocks\n",
        "-   functions implemented above, in the right order.\n",
        "-   Implement the model function. Use the following notation:\n",
        "    -   Y<sub>prediction</sub><sub>test</sub> for your predictions on the test set\n",
        "    -   Y<sub>prediction</sub><sub>train</sub> for your predictions on the train set\n",
        "    -   w, costs, grads for the outputs of `optimize()`\n",
        "\n"
      ]
    },
    {
      "cell_type": "code",
      "execution_count": null,
      "metadata": {
        "id": "otaSIbKgFsb-"
      },
      "outputs": [],
      "source": [
        "def model(X_train, Y_train, X_test, Y_test, num_iterations = 2000, learning_rate = 0.5, print_cost = False):\n",
        "    \"\"\"\n",
        "    Builds the logistic regression model by calling the function you've implemented previously\n",
        "    \n",
        "    X_train -- training set represented by a numpy array of shape (num_px * num_px * 3, m_train)\n",
        "    Y_train -- training labels represented by a numpy array (vector) of shape (1, m_train)\n",
        "    X_test -- test set represented by a numpy array of shape (num_px * num_px * 3, m_test)\n",
        "    Y_test -- test labels represented by a numpy array (vector) of shape (1, m_test)\n",
        "    num_iterations -- hyperparameter representing the number of iterations to optimize the parameters\n",
        "    learning_rate -- hyperparameter representing the learning rate used in the update rule of optimize()\n",
        "    print_cost -- Set to true to print the cost every 100 iterations\n",
        "    d -- dictionary containing information about the model.\n",
        "    \"\"\"\n",
        "    \n",
        "    \n",
        "    # initialize parameters with zeros (approx 1 line of code)\n",
        "    w, b = initialize_with_zeros(X_train.shape[0])\n",
        "\n",
        "    # Gradient descent (approx 1 line of code)\n",
        "    parameters, grads, costs = optimize(w, b, X_train, Y_train, num_iterations, learning_rate, print_cost = False)\n",
        "    \n",
        "    # Retrieve parameters w and b from dictionary \"parameters\"\n",
        "    w = parameters[\"w\"]\n",
        "    b = parameters[\"b\"]\n",
        "    \n",
        "    # Predict test/train set examples (approx 2 lines of code)\n",
        "    Y_prediction_test = predict(w, b, X_test)\n",
        "    Y_prediction_train = predict(w, b, X_train)\n",
        "\n",
        "\n",
        "    # Print train/test Errors\n",
        "    print(\"train accuracy: {} %\".format(100 - np.mean(np.abs(Y_prediction_train - Y_train)) * 100))\n",
        "    print(\"test accuracy: {} %\".format(100 - np.mean(np.abs(Y_prediction_test - Y_test)) * 100))\n",
        "\n",
        "    \n",
        "    d = {\"costs\": costs,\n",
        "         \"Y_prediction_test\": Y_prediction_test, \n",
        "         \"Y_prediction_train\" : Y_prediction_train, \n",
        "         \"w\" : w, \n",
        "         \"b\" : b,\n",
        "         \"learning_rate\" : learning_rate,\n",
        "         \"num_iterations\": num_iterations}\n",
        "    \n",
        "    return d"
      ]
    },
    {
      "cell_type": "markdown",
      "metadata": {
        "id": "1CWvje11Fsb-"
      },
      "source": [
        "**Run the training using above developed functions**\n",
        "\n"
      ]
    },
    {
      "cell_type": "code",
      "execution_count": null,
      "metadata": {
        "colab": {
          "base_uri": "https://localhost:8080/"
        },
        "id": "adnFG_gjFsb-",
        "outputId": "c9c18c17-f8ce-4004-a753-964bb6667110"
      },
      "outputs": [
        {
          "output_type": "stream",
          "name": "stdout",
          "text": [
            "train accuracy: 97.87234042553192 %\n",
            "test accuracy: 73.33333333333333 %\n"
          ]
        }
      ],
      "source": [
        "from sklearn import preprocessing\n",
        "train_x = np.asanyarray(train[['Load [ft.lb]','Engine speed [rpm]']])\n",
        "train_y = np.asanyarray(train[['High NOx']])\n",
        "\n",
        "test_x = np.asanyarray(test[['Load [ft.lb]','Engine speed [rpm]']])\n",
        "test_y = np.asanyarray(test[['High NOx']])\n",
        "\n",
        "\n",
        "min_max_scaler = preprocessing.MinMaxScaler()\n",
        "X_train_minmax = min_max_scaler.fit_transform(train_x)\n",
        "X_test_minmax = min_max_scaler.transform(test_x)\n",
        "\n",
        "d = model(X_train_minmax.T, train_y.T, X_test_minmax.T, test_y.T, num_iterations = 100000, learning_rate = 0.01, print_cost = True)"
      ]
    },
    {
      "cell_type": "markdown",
      "metadata": {
        "id": "ZDkAGlAmFsb-"
      },
      "source": [
        "**Plot learning curve (with costs)**\n",
        "\n"
      ]
    },
    {
      "cell_type": "code",
      "execution_count": null,
      "metadata": {
        "colab": {
          "base_uri": "https://localhost:8080/",
          "height": 295
        },
        "id": "e9GAALyPFsb_",
        "outputId": "cae6a364-74d6-4ee1-8dac-49a3e3aea5db"
      },
      "outputs": [
        {
          "output_type": "display_data",
          "data": {
            "text/plain": [
              "<Figure size 432x288 with 1 Axes>"
            ],
            "image/png": "[encoded data removed]"
          },
          "metadata": {
            "needs_background": "light"
          }
        }
      ],
      "source": [
        "costs = np.squeeze(d['costs'])\n",
        "plt.plot(costs)\n",
        "plt.ylabel('cost')\n",
        "plt.xlabel('iterations (per hundreds)')\n",
        "plt.title(\"Learning rate =\" + str(d[\"learning_rate\"]))\n",
        "plt.show()"
      ]
    },
    {
      "cell_type": "markdown",
      "metadata": {
        "id": "uiSLiafsFsb_"
      },
      "source": [
        "**Plot the classification of NOx as high or low - hand-written code method**\n",
        "\n"
      ]
    },
    {
      "cell_type": "code",
      "execution_count": null,
      "metadata": {
        "colab": {
          "base_uri": "https://localhost:8080/",
          "height": 287
        },
        "id": "yNzwZmMsFsb_",
        "outputId": "0c5ade4b-a3f2-4273-d4d9-a2471976cd38"
      },
      "outputs": [
        {
          "output_type": "display_data",
          "data": {
            "text/plain": [
              "<Figure size 432x288 with 1 Axes>"
            ],
            "image/png": "[encoded data removed]"
          },
          "metadata": {
            "needs_background": "light"
          }
        }
      ],
      "source": [
        "colors = {0: 'lightcoral', 1:'aqua', 2:'green', 3:'coral', 4:'orange', 5:'black'}\n",
        "\n",
        "X_plot = X_train_minmax.T\n",
        "Y_plot = train_y.T\n",
        "\n",
        "X_plot_ts = X_test_minmax.T\n",
        "Y_plot_ts = test_y.T\n",
        "\n",
        "# Set min and max values and give it some padding\n",
        "x_min, x_max = X_plot[0, :].min() - 0.1, X_plot[0, :].max() + 0.1\n",
        "y_min, y_max = X_plot[1, :].min() - 0.1, X_plot[1, :].max() + 0.1\n",
        "h = 0.01\n",
        "# Generate a grid of points with distance h between them\n",
        "xx, yy = np.meshgrid(np.arange(x_min, x_max, h), np.arange(y_min, y_max, h))\n",
        "\n",
        "Z = predict(d[\"w\"],d[\"b\"],np.c_[xx.ravel().T, yy.ravel().T].T)\n",
        "Z = Z.reshape(xx.shape)\n",
        "# Plot the contour and training examples\n",
        "plt.contourf(xx, yy, Z, cmap=plt.cm.Spectral)\n",
        "area = 30\n",
        "plt.scatter(X_plot[0,:], X_plot[1,:], s=area, c=np.array(train['High NOx'].map(colors).tolist()), alpha=1)\n",
        "plt.scatter(X_plot_ts[0,:], X_plot_ts[1,:], s=8*area, c=np.array(test['High NOx'].map(colors).tolist()), alpha=1)\n",
        "plt.xlabel('Load [ft.lb]', fontsize=18)\n",
        "plt.ylabel('Engine speed [rpm]', fontsize=16)\n",
        "\n",
        "\n",
        "\n",
        "\n",
        "predictions = predict(d[\"w\"],d[\"b\"], X_plot)\n",
        "predictions_test = predict(d[\"w\"],d[\"b\"], X_plot_ts)\n",
        "# accuracy = float((np.dot(Y.T,predictions.T) + np.dot(1-Y.T,1-predictions.T))/float(Y.size)*100)\n",
        "# accuracy_test = float((np.dot(Yts.T,predictions_test.T) + np.dot(1-Yts.T,1-predictions_test.T))/float(Yts.size)*100)\n",
        "# print (\"Accuracy for train data: {} %\".format(accuracy))\n",
        "# print (\"Accuracy for test data: {} %\".format(accuracy_test))"
      ]
    },
    {
      "cell_type": "markdown",
      "metadata": {
        "id": "nhZPzvs5Fsb_"
      },
      "source": [
        "**Logistic Regression classifier using sklearn**\n",
        "\n"
      ]
    },
    {
      "cell_type": "code",
      "execution_count": null,
      "metadata": {
        "id": "Y_kv4dEmFsb_"
      },
      "outputs": [],
      "source": [
        "from sklearn import preprocessing\n",
        "\n",
        "train_x = np.asanyarray(train[['Load [ft.lb]','Engine speed [rpm]']])\n",
        "train_y = np.asanyarray(train[['High NOx']])\n",
        "\n",
        "test_x = np.asanyarray(test[['Load [ft.lb]','Engine speed [rpm]']])\n",
        "test_y = np.asanyarray(test[['High NOx']])\n",
        "\n",
        "min_max_scaler = preprocessing.MinMaxScaler()\n",
        "X_train_minmax = min_max_scaler.fit_transform(train_x)\n",
        "X_test_minmax = min_max_scaler.transform(test_x)"
      ]
    },
    {
      "cell_type": "markdown",
      "metadata": {
        "id": "QVvMVQfbFsb_"
      },
      "source": [
        "**Logistic regression and prediction**\n",
        "\n"
      ]
    },
    {
      "cell_type": "markdown",
      "metadata": {
        "id": "0Gr4gQplFsb_"
      },
      "source": [
        "-   import `LogisticRegression` from `sklearn`\n",
        "-   the `penalty = 'l2'` is the type of regularization and `C` is $\\lambda$\n",
        "-   show NOx classification for training data\n",
        "\n"
      ]
    },
    {
      "cell_type": "code",
      "execution_count": null,
      "metadata": {
        "colab": {
          "base_uri": "https://localhost:8080/"
        },
        "id": "fI8wz4fiFsb_",
        "outputId": "651e67b3-05df-4477-c90c-762be7fe7411"
      },
      "outputs": [
        {
          "output_type": "execute_result",
          "data": {
            "text/plain": [
              "array([0, 0, 0, 0, 0, 0, 0, 0, 0, 0, 0, 0, 0, 0, 0, 0, 0, 1, 0, 1, 0, 1,\n",
              "       1, 1, 1, 1, 1, 1, 1, 1, 1, 1, 1, 1, 1, 1, 1, 1, 1, 1, 1, 1, 1, 1,\n",
              "       1, 1, 1])"
            ]
          },
          "metadata": {},
          "execution_count": 77
        }
      ],
      "source": [
        "from sklearn.linear_model import LogisticRegression\n",
        "clf = LogisticRegression(penalty='l2', C = 1.5, max_iter=1000).fit(X_train_minmax, train_y.ravel())\n",
        "clf.predict(X_train_minmax)"
      ]
    },
    {
      "cell_type": "markdown",
      "metadata": {
        "id": "gxGZFuswFscA"
      },
      "source": [
        "**Plot the classification of NOx as high or low - sklearn**\n",
        "\n"
      ]
    },
    {
      "cell_type": "code",
      "execution_count": null,
      "metadata": {
        "colab": {
          "base_uri": "https://localhost:8080/",
          "height": 322
        },
        "id": "8f3eKGQ3FscA",
        "outputId": "e9fcf3d8-171b-4598-959e-e5e17574eb6b"
      },
      "outputs": [
        {
          "output_type": "stream",
          "name": "stdout",
          "text": [
            "Accuracy for train data: 95.74468085106383 %\n",
            "Accuracy for test data: 80.0 %\n"
          ]
        },
        {
          "output_type": "display_data",
          "data": {
            "text/plain": [
              "<Figure size 432x288 with 1 Axes>"
            ],
            "image/png": "[encoded data removed]"
          },
          "metadata": {
            "needs_background": "light"
          }
        }
      ],
      "source": [
        "colors = {0: 'lightcoral', 1:'aqua', 2:'green', 3:'coral', 4:'orange', 5:'black'}\n",
        "\n",
        "X = X_train_minmax\n",
        "Y = train_y\n",
        "\n",
        "Xts = X_test_minmax\n",
        "Yts = test_y\n",
        "\n",
        "X_plot = X_train_minmax.T\n",
        "Y_plot = train_y.T\n",
        "\n",
        "X_plot_ts = X_test_minmax.T\n",
        "Y_plot_ts = test_y.T\n",
        "\n",
        "# Set min and max values and give it some padding\n",
        "x_min, x_max = X_plot[0, :].min() - 0.1, X_plot[0, :].max() + 0.1\n",
        "y_min, y_max = X_plot[1, :].min() - 0.1, X_plot[1, :].max() + 0.1\n",
        "h = 0.01\n",
        "# Generate a grid of points with distance h between them\n",
        "xx, yy = np.meshgrid(np.arange(x_min, x_max, h), np.arange(y_min, y_max, h))\n",
        "\n",
        "Z = clf.predict(np.c_[xx.ravel().T, yy.ravel().T])\n",
        "Z = Z.reshape(xx.shape)\n",
        "# Plot the contour and training examples\n",
        "plt.contourf(xx, yy, Z, cmap=plt.cm.Spectral)\n",
        "area = 30\n",
        "plt.scatter(X_plot[0,:], X_plot[1,:], s=area, c=np.array(train['High NOx'].map(colors).tolist()), alpha=1)\n",
        "plt.scatter(X_plot_ts[0,:], X_plot_ts[1,:], s=8*area, c=np.array(test['High NOx'].map(colors).tolist()), alpha=1)\n",
        "plt.xlabel('Load [ft.lb]', fontsize=18)\n",
        "plt.ylabel('Engine speed [rpm]', fontsize=16)\n",
        "\n",
        "\n",
        "predictions = clf.predict(X)\n",
        "predictions_test = clf.predict(Xts)\n",
        "accuracy = float((np.dot(Y.T,predictions.T) + np.dot(1-Y.T,1-predictions.T))/float(Y.size)*100)\n",
        "accuracy_test = float((np.dot(Yts.T,predictions_test.T) + np.dot(1-Yts.T,1-predictions_test.T))/float(Yts.size)*100)\n",
        "print (\"Accuracy for train data: {} %\".format(accuracy))\n",
        "print (\"Accuracy for test data: {} %\".format(accuracy_test))"
      ]
    },
    {
      "cell_type": "markdown",
      "metadata": {
        "id": "bpNWym6WFscA"
      },
      "source": [
        "## Unsupervised Learning k-means\n",
        "\n"
      ]
    },
    {
      "cell_type": "markdown",
      "metadata": {
        "id": "KNfp-nCfFscA"
      },
      "source": [
        "### Unsupervised Learning background\n",
        "\n"
      ]
    },
    {
      "cell_type": "markdown",
      "metadata": {
        "id": "uy9IGYxnFscA"
      },
      "source": [
        "-   In unsupervised learning, the training data is unlabeled.\n",
        "-   the algorithm system tries to learn without a solution\n",
        "-   some of the most important unsupervised learning subsystems:\n",
        "    -   Clustering\n",
        "    -   Anomaly detection and novelty detection\n",
        "    -   Association rule learning\n",
        "-   where clustering among these play a crucial role, especially when the objective is to divide unlabeled data.\n",
        "-   Spam detection of email is a well-known example of clustering using unsupervised learning.\n",
        "\n"
      ]
    },
    {
      "cell_type": "markdown",
      "metadata": {
        "id": "Eu79gkDNFscA"
      },
      "source": [
        "### k-means\n",
        "\n"
      ]
    },
    {
      "cell_type": "markdown",
      "metadata": {
        "id": "QF3E0-3nFscA"
      },
      "source": [
        "-   one of the simplest unsupervised models is k-means\n",
        "-   Despite its simplicity, the K-means is widely used for clustering in many engineering applications\n",
        "-   it is especially useful if you need to quickly gain insights from unlabeled data.\n",
        "-   The way k-means algorithm works as follows:\n",
        "    -   Specify number of clusters K\n",
        "    -   Initialize centroids by first shuffling the dataset and then randomly selecting K data points for the centroids without replacement\n",
        "    -   Keep iterating until there is no change to the centroids. i.e assignment of data points to clusters is not changing\n",
        "-   for a given $ m $ unlabeled data points and clustering to $ k $ cluster,\n",
        "-   the cost function of k-means algorithm is defined as\n",
        "\n",
        "\\begin{equation}\n",
        "    J = \\sum_{i = 1}^m \\sum_{k = 1}^K w_{ik}||x^i - \\mu_k||^2\n",
        "\\end{equation}\n",
        "\n"
      ]
    },
    {
      "cell_type": "markdown",
      "metadata": {
        "id": "06vTjhdTFscA"
      },
      "source": [
        "**k-means minimization**\n",
        "\n"
      ]
    },
    {
      "cell_type": "markdown",
      "metadata": {
        "id": "IgPZFwKbFscA"
      },
      "source": [
        "-   it is a minimization problem of two parts.\n",
        "-   first minimize $ J $ with respect to $ w_{ik} $ and treat $ \\mu_k$ fixed as\n",
        "\n",
        "\\begin{equation}\n",
        "   \\frac{\\partial J}{\\partial w_{ik}}   = \\sum_{i = 1}^m \\sum_{k = 1}^K ||x^i - \\mu_k||^2 = 0\n",
        "\\end{equation}\n",
        "\n",
        "which results in\n",
        "\n",
        "\\begin{equation}\n",
        "\\begin{split}\n",
        "w_{ik} &= \\begin{cases}\n",
        "         1 & \\text{if } k = \\text{arg min} ||x^i - \\mu_k||^2 \\\\\n",
        "         0 & \\text{otherwise } \\\\\n",
        "    \\end{cases}\\\\\n",
        "\\end{split}\n",
        "\\end{equation}\n",
        "\n",
        "-   this assigns the data point $ x^i $ to the closest cluster, judged by its sum of squared distance from cluster centroid.\n",
        "-   Then take the derivative of $ J $ with respect to $ \\mu_k $ and treat $ w_{ik}$ fixed.\n",
        "-   This part is recompute the centroids after the cluster assignments from previous step as\n",
        "\n",
        "\\begin{equation}\n",
        "   \\frac{\\partial J}{\\partial \\mu_k}   = 2 \\sum_{i = 1}^m \\sum_{k = 1}^K  w_{ik}(x^i - \\mu_k) = 0\n",
        "\\end{equation}\n",
        "\n",
        "-   and results in\n",
        "\n",
        "\\begin{equation}\n",
        "\\mu_k = \\frac{\\sum_{i = 1}^m w_{ik}x^i}{\\sum_{k = 1}^K w_{ik}}\n",
        "\\end{equation}\n",
        "\n",
        "-   which translates to recomputing the centroid of each cluster to reflect the new assignments.\n",
        "\n"
      ]
    },
    {
      "cell_type": "markdown",
      "metadata": {
        "id": "yCDcSjK_FscB"
      },
      "source": [
        "**k-means - initialize**\n",
        "\n"
      ]
    },
    {
      "cell_type": "markdown",
      "metadata": {
        "id": "xHpX-FC3FscB"
      },
      "source": [
        "-   Since clustering algorithms including k-means use distance-based measurements to determine the similarity between data points,\n",
        "-   it is recommended to standardize the data to have a mean of zero and a standard deviation of one\n",
        "    -   since the features in any dataset would typically have different units\n",
        "    -   such as age vs income.\n",
        "-   Given k-means iterative nature and the random initialization of centroids at the start of the algorithm,\n",
        "-   different initializations may lead to different clusters since k-means algorithm may stuck in a local optimum and may not converge to global optimum.\n",
        "-   Therefore, it is recommended to run the algorithm using different initializations of centroids and pick the results of the run that that results in the lowest sum of squared distance.\n",
        "\n"
      ]
    },
    {
      "cell_type": "markdown",
      "metadata": {
        "id": "ndWDtJtPFscB"
      },
      "source": [
        "### Unsupervised Learning K-means - simple python example\n",
        "\n"
      ]
    },
    {
      "cell_type": "markdown",
      "metadata": {
        "id": "-LzN9B_oFscB"
      },
      "source": [
        "**import necessary libraries**\n",
        "\n"
      ]
    },
    {
      "cell_type": "code",
      "execution_count": null,
      "metadata": {
        "id": "OClRTJi0FscB"
      },
      "outputs": [],
      "source": [
        "import pandas as pd\n",
        "import numpy as np\n",
        "import math\n",
        "import operator\n",
        "import matplotlib.pyplot as plt\n",
        "get_ipython().run_line_magic('matplotlib', 'inline')"
      ]
    },
    {
      "cell_type": "markdown",
      "metadata": {
        "id": "kDtiZWdeFscB"
      },
      "source": [
        "**import the data set**\n",
        "\n"
      ]
    },
    {
      "cell_type": "code",
      "execution_count": null,
      "metadata": {
        "id": "u_Pums-lFscB"
      },
      "outputs": [],
      "source": [
        "from sklearn.datasets import make_blobs"
      ]
    },
    {
      "cell_type": "markdown",
      "metadata": {
        "id": "O2odu3tJFscC"
      },
      "source": [
        "**Create the data set:**\n",
        "\n"
      ]
    },
    {
      "cell_type": "markdown",
      "metadata": {
        "id": "0u7DPf6KFscC"
      },
      "source": [
        "-   First  up a random seed. Use `numpy's random.seed()` function, where the seed will be set to `0`\n",
        "-   Next we will be making random clusters of points by using the `make_blobs` class.\n",
        "-   The `make_blobs` class can take in many inputs, but we will be using these specific ones.\n",
        "\n",
        "<span class=\"underline\">Input</span>\n",
        "\n",
        "-   `n_samples` The total number of points equally divided among clusters.\n",
        "    -   Value will be: 5000\n",
        "-   `centers` The number of centers to generate, or the fixed center locations.\n",
        "    -   Value will be: [[4, 4], [-2, -1], [2, -3],[1,1]]\n",
        "-   `cluster_std` The standard deviation of the clusters.\n",
        "    -   Value will be: 0.9\n",
        "\n",
        "<span class=\"underline\">Output</span>\n",
        "\n",
        "-   `X` : Array of shape [n<sub>samples</sub>, n<sub>features</sub>]. (Feature Matrix)\n",
        "    -   The generated samples.\n",
        "-   `y` : Array of shape [n<sub>samples</sub>]. (Response Vector)\n",
        "    -   The integer labels for cluster membership of each sample.\n",
        "\n"
      ]
    },
    {
      "cell_type": "markdown",
      "metadata": {
        "id": "vhztU21ZFscC"
      },
      "source": [
        "**Scatter plot of the randomly generated data**\n",
        "\n"
      ]
    },
    {
      "cell_type": "code",
      "execution_count": null,
      "metadata": {
        "colab": {
          "base_uri": "https://localhost:8080/",
          "height": 282
        },
        "id": "uFr-XxkYFscC",
        "outputId": "6750273d-efd1-4f8d-c78f-c39a9755ca56"
      },
      "outputs": [
        {
          "output_type": "execute_result",
          "data": {
            "text/plain": [
              "<matplotlib.collections.PathCollection at 0x7fed899c96d0>"
            ]
          },
          "metadata": {},
          "execution_count": 81
        },
        {
          "output_type": "display_data",
          "data": {
            "text/plain": [
              "<Figure size 432x288 with 1 Axes>"
            ],
            "image/png": "[encoded data removed]"
          },
          "metadata": {
            "needs_background": "light"
          }
        }
      ],
      "source": [
        "np.random.seed(0)\n",
        "X, y = make_blobs(n_samples=5000, centers=[[4,4], [-2, -1], [2, -3], [1, 1]], cluster_std=0.9)\n",
        "plt.scatter(X[:, 0], X[:, 1], marker='.')"
      ]
    },
    {
      "cell_type": "markdown",
      "metadata": {
        "id": "S9E2dAVAFscC"
      },
      "source": [
        "**Setting up K-Means**\n",
        "\n"
      ]
    },
    {
      "cell_type": "markdown",
      "metadata": {
        "id": "aV9yD1nZFscC"
      },
      "source": [
        "-   Using the random data setup K-Means Clustering.\n",
        "-   The k-means class has many parameters that can be used, but we will be using these three:\n",
        "-   `init` : Initialization method of the centroids. \n",
        "    -   Value will be: `k-means++`\n",
        "    -   `k-means++` : Selects initial cluster centers for k-mean clustering in a smart way to speed up convergence.\n",
        "-   `n_clusters` : The number of clusters to form as well as the number of centroids to generate. \n",
        "    -   Value will be: 4 (since we have 4 centers)\n",
        "    -   `n_init` : Number of time the k-means algorithm will be run with different centroid seeds.\n",
        "    -   The final results will be the best output of `n_init` consecutive runs in terms of inertia.\n",
        "-   Choose a value will be: 12\n",
        "-   Initialize k-means with these parameters, where the output parameter is called `k_means`.\n",
        "\n"
      ]
    },
    {
      "cell_type": "code",
      "execution_count": null,
      "metadata": {
        "id": "0cGLFq3DFscC"
      },
      "outputs": [],
      "source": [
        "from sklearn.cluster import KMeans\n",
        "k_means = KMeans(init = \"k-means++\", n_clusters = 4, n_init = 12)"
      ]
    },
    {
      "cell_type": "markdown",
      "metadata": {
        "id": "X7-rqZ27FscC"
      },
      "source": [
        "**Fit the k-means model with the data matrix X**\n",
        "\n"
      ]
    },
    {
      "cell_type": "code",
      "execution_count": null,
      "metadata": {
        "colab": {
          "base_uri": "https://localhost:8080/"
        },
        "id": "xY1XtJWoFscC",
        "outputId": "d6f3d5af-d9f6-43dd-fc49-a08a301f42a3"
      },
      "outputs": [
        {
          "output_type": "execute_result",
          "data": {
            "text/plain": [
              "KMeans(n_clusters=4, n_init=12)"
            ]
          },
          "metadata": {},
          "execution_count": 83
        }
      ],
      "source": [
        "k_means.fit(X)"
      ]
    },
    {
      "cell_type": "markdown",
      "metadata": {
        "id": "07JpffRYFscC"
      },
      "source": [
        "-   Now let's obtain the labels for each point in the model using the label attribute `k_means.labels`\n",
        "-   and save it as `k_means_labels`\n",
        "\n"
      ]
    },
    {
      "cell_type": "code",
      "execution_count": null,
      "metadata": {
        "colab": {
          "base_uri": "https://localhost:8080/"
        },
        "id": "6iFIEKn3FscD",
        "outputId": "dba2ac1e-3534-4276-e40b-dde6b2493a4e"
      },
      "outputs": [
        {
          "output_type": "execute_result",
          "data": {
            "text/plain": [
              "array([0, 3, 3, ..., 1, 0, 0], dtype=int32)"
            ]
          },
          "metadata": {},
          "execution_count": 84
        }
      ],
      "source": [
        "k_means_labels = k_means.labels_\n",
        "k_means_labels"
      ]
    },
    {
      "cell_type": "markdown",
      "metadata": {
        "id": "AvnbX1NqFscD"
      },
      "source": [
        "-   get the coordinates of the cluster centers using `k_means.cluster_centers_`\n",
        "-   and save it as `k_means_cluster_centers`\n",
        "\n"
      ]
    },
    {
      "cell_type": "code",
      "execution_count": null,
      "metadata": {
        "colab": {
          "base_uri": "https://localhost:8080/"
        },
        "id": "Y4UmsamBFscD",
        "outputId": "55f15899-6399-40b8-f74d-06c38413b4f2"
      },
      "outputs": [
        {
          "output_type": "execute_result",
          "data": {
            "text/plain": [
              "array([[-2.03743147, -0.99782524],\n",
              "       [ 3.97334234,  3.98758687],\n",
              "       [ 0.96900523,  0.98370298],\n",
              "       [ 1.99741008, -3.01666822]])"
            ]
          },
          "metadata": {},
          "execution_count": 85
        }
      ],
      "source": [
        "k_means_cluster_centers = k_means.cluster_centers_\n",
        "k_means_cluster_centers"
      ]
    },
    {
      "cell_type": "markdown",
      "metadata": {
        "id": "jIdjdchbFscD"
      },
      "source": [
        "**Visualize with a Plot**\n",
        "\n"
      ]
    },
    {
      "cell_type": "markdown",
      "metadata": {
        "id": "84acDdmCFscD"
      },
      "source": [
        "-   have the random data generated and the k-means model initialized\n",
        "-   can now plot them\n",
        "\n"
      ]
    },
    {
      "cell_type": "code",
      "execution_count": null,
      "metadata": {
        "colab": {
          "base_uri": "https://localhost:8080/",
          "height": 268
        },
        "id": "R1qo86GIFscD",
        "outputId": "a20f26ef-f6fb-46c3-fb39-e06746379f14"
      },
      "outputs": [
        {
          "output_type": "display_data",
          "data": {
            "text/plain": [
              "<Figure size 432x288 with 1 Axes>"
            ],
            "image/png": "[encoded data removed]"
          },
          "metadata": {}
        }
      ],
      "source": [
        "# Initialize the plot with the specified dimensions.\n",
        "fig = plt.figure(figsize=(6, 4))\n",
        "\n",
        "# Colors uses a color map, which will produce an array of colors based on\n",
        "# the number of labels there are. We use set(k_means_labels) to get the\n",
        "# unique labels.\n",
        "colors = plt.cm.Spectral(np.linspace(0, 1, len(set(k_means_labels))))\n",
        "\n",
        "# Create a plot\n",
        "ax = fig.add_subplot(1, 1, 1)\n",
        "\n",
        "# For loop that plots the data points and centroids.\n",
        "# k will range from 0-3, which will match the possible clusters that each\n",
        "# data point is in.\n",
        "for k, col in zip(range(len([[4,4], [-2, -1], [2, -3], [1, 1]])), colors):\n",
        "\n",
        "    # Create a list of all data points, where the data poitns that are \n",
        "    # in the cluster (ex. cluster 0) are labeled as true, else they are\n",
        "    # labeled as false.\n",
        "    my_members = (k_means_labels == k)\n",
        "    \n",
        "    # Define the centroid, or cluster center.\n",
        "    cluster_center = k_means_cluster_centers[k]\n",
        "    \n",
        "    # Plots the datapoints with color col.\n",
        "    ax.plot(X[my_members, 0], X[my_members, 1], 'w', markerfacecolor=col, marker='.')\n",
        "    \n",
        "    # Plots the centroids with specified color, but with a darker outline\n",
        "    ax.plot(cluster_center[0], cluster_center[1], 'o', markerfacecolor=col,  markeredgecolor='k', markersize=6)\n",
        "\n",
        "# Title of the plot\n",
        "ax.set_title('KMeans - Simple Example')\n",
        "\n",
        "# Remove x-axis ticks\n",
        "ax.set_xticks(())\n",
        "\n",
        "# Remove y-axis ticks\n",
        "ax.set_yticks(())\n",
        "\n",
        "# Show the plot\n",
        "plt.show()"
      ]
    },
    {
      "cell_type": "markdown",
      "metadata": {
        "id": "XhMIG6FsFscD"
      },
      "source": [
        "### Unsupervised Learning K-means - Diesel engine example\n",
        "\n"
      ]
    },
    {
      "cell_type": "markdown",
      "metadata": {
        "id": "GbeX1SyaFscD"
      },
      "source": [
        "**Diesel engine - NOx as a function of load**\n",
        "\n"
      ]
    },
    {
      "cell_type": "markdown",
      "metadata": {
        "id": "SZ1FFJuOFscD"
      },
      "source": [
        "-   Import the data and show the first lines\n",
        "\n"
      ]
    },
    {
      "cell_type": "code",
      "execution_count": null,
      "metadata": {
        "colab": {
          "base_uri": "https://localhost:8080/",
          "height": 206
        },
        "id": "yZmO-6I1FscD",
        "outputId": "f39e8829-e6fd-4f81-e2a3-d746bd628ce3"
      },
      "outputs": [
        {
          "output_type": "execute_result",
          "data": {
            "text/plain": [
              "   Load [ft.lb]  Engine speed [rpm]  mf [mg/stroke]     Pr [PSI]   NOx [ppm]\n",
              "0            50         1549.501134       24.608617  14303.37188  172.751046\n",
              "1            75         1492.000000       28.400000  13795.00000  217.639851\n",
              "2           100         1505.701878       33.679754  13547.30399  239.576076\n",
              "3           125         1505.000000       40.000000  12982.00000  272.449899\n",
              "4           150         1506.710526       45.168421  12679.94737  310.225311"
            ],
            "text/html": [
              "\n",
              "  <div id=\"df-ab8c781c-ca95-4118-b3f8-2712299d886a\">\n",
              "    <div class=\"colab-df-container\">\n",
              "      <div>\n",
              "<style scoped>\n",
              "    .dataframe tbody tr th:only-of-type {\n",
              "        vertical-align: middle;\n",
              "    }\n",
              "\n",
              "    .dataframe tbody tr th {\n",
              "        vertical-align: top;\n",
              "    }\n",
              "\n",
              "    .dataframe thead th {\n",
              "        text-align: right;\n",
              "    }\n",
              "</style>\n",
              "<table border=\"1\" class=\"dataframe\">\n",
              "  <thead>\n",
              "    <tr style=\"text-align: right;\">\n",
              "      <th></th>\n",
              "      <th>Load [ft.lb]</th>\n",
              "      <th>Engine speed [rpm]</th>\n",
              "      <th>mf [mg/stroke]</th>\n",
              "      <th>Pr [PSI]</th>\n",
              "      <th>NOx [ppm]</th>\n",
              "    </tr>\n",
              "  </thead>\n",
              "  <tbody>\n",
              "    <tr>\n",
              "      <th>0</th>\n",
              "      <td>50</td>\n",
              "      <td>1549.501134</td>\n",
              "      <td>24.608617</td>\n",
              "      <td>14303.37188</td>\n",
              "      <td>172.751046</td>\n",
              "    </tr>\n",
              "    <tr>\n",
              "      <th>1</th>\n",
              "      <td>75</td>\n",
              "      <td>1492.000000</td>\n",
              "      <td>28.400000</td>\n",
              "      <td>13795.00000</td>\n",
              "      <td>217.639851</td>\n",
              "    </tr>\n",
              "    <tr>\n",
              "      <th>2</th>\n",
              "      <td>100</td>\n",
              "      <td>1505.701878</td>\n",
              "      <td>33.679754</td>\n",
              "      <td>13547.30399</td>\n",
              "      <td>239.576076</td>\n",
              "    </tr>\n",
              "    <tr>\n",
              "      <th>3</th>\n",
              "      <td>125</td>\n",
              "      <td>1505.000000</td>\n",
              "      <td>40.000000</td>\n",
              "      <td>12982.00000</td>\n",
              "      <td>272.449899</td>\n",
              "    </tr>\n",
              "    <tr>\n",
              "      <th>4</th>\n",
              "      <td>150</td>\n",
              "      <td>1506.710526</td>\n",
              "      <td>45.168421</td>\n",
              "      <td>12679.94737</td>\n",
              "      <td>310.225311</td>\n",
              "    </tr>\n",
              "  </tbody>\n",
              "</table>\n",
              "</div>\n",
              "      <button class=\"colab-df-convert\" onclick=\"convertToInteractive('df-ab8c781c-ca95-4118-b3f8-2712299d886a')\"\n",
              "              title=\"Convert this dataframe to an interactive table.\"\n",
              "              style=\"display:none;\">\n",
              "        \n",
              "  <svg xmlns=\"http://www.w3.org/2000/svg\" height=\"24px\"viewBox=\"0 0 24 24\"\n",
              "       width=\"24px\">\n",
              "    <path d=\"M0 0h24v24H0V0z\" fill=\"none\"/>\n",
              "    <path d=\"M18.56 5.44l.94 2.06.94-2.06 2.06-.94-2.06-.94-.94-2.06-.94 2.06-2.06.94zm-11 1L8.5 8.5l.94-2.06 2.06-.94-2.06-.94L8.5 2.5l-.94 2.06-2.06.94zm10 10l.94 2.06.94-2.06 2.06-.94-2.06-.94-.94-2.06-.94 2.06-2.06.94z\"/><path d=\"M17.41 7.96l-1.37-1.37c-.4-.4-.92-.59-1.43-.59-.52 0-1.04.2-1.43.59L10.3 9.45l-7.72 7.72c-.78.78-.78 2.05 0 2.83L4 21.41c.39.39.9.59 1.41.59.51 0 1.02-.2 1.41-.59l7.78-7.78 2.81-2.81c.8-.78.8-2.07 0-2.86zM5.41 20L4 18.59l7.72-7.72 1.47 1.35L5.41 20z\"/>\n",
              "  </svg>\n",
              "      </button>\n",
              "      \n",
              "  <style>\n",
              "    .colab-df-container {\n",
              "      display:flex;\n",
              "      flex-wrap:wrap;\n",
              "      gap: 12px;\n",
              "    }\n",
              "\n",
              "    .colab-df-convert {\n",
              "      background-color: #E8F0FE;\n",
              "      border: none;\n",
              "      border-radius: 50%;\n",
              "      cursor: pointer;\n",
              "      display: none;\n",
              "      fill: #1967D2;\n",
              "      height: 32px;\n",
              "      padding: 0 0 0 0;\n",
              "      width: 32px;\n",
              "    }\n",
              "\n",
              "    .colab-df-convert:hover {\n",
              "      background-color: #E2EBFA;\n",
              "      box-shadow: 0px 1px 2px rgba(60, 64, 67, 0.3), 0px 1px 3px 1px rgba(60, 64, 67, 0.15);\n",
              "      fill: #174EA6;\n",
              "    }\n",
              "\n",
              "    [theme=dark] .colab-df-convert {\n",
              "      background-color: #3B4455;\n",
              "      fill: #D2E3FC;\n",
              "    }\n",
              "\n",
              "    [theme=dark] .colab-df-convert:hover {\n",
              "      background-color: #434B5C;\n",
              "      box-shadow: 0px 1px 3px 1px rgba(0, 0, 0, 0.15);\n",
              "      filter: drop-shadow(0px 1px 2px rgba(0, 0, 0, 0.3));\n",
              "      fill: #FFFFFF;\n",
              "    }\n",
              "  </style>\n",
              "\n",
              "      <script>\n",
              "        const buttonEl =\n",
              "          document.querySelector('#df-ab8c781c-ca95-4118-b3f8-2712299d886a button.colab-df-convert');\n",
              "        buttonEl.style.display =\n",
              "          google.colab.kernel.accessAllowed ? 'block' : 'none';\n",
              "\n",
              "        async function convertToInteractive(key) {\n",
              "          const element = document.querySelector('#df-ab8c781c-ca95-4118-b3f8-2712299d886a');\n",
              "          const dataTable =\n",
              "            await google.colab.kernel.invokeFunction('convertToInteractive',\n",
              "                                                     [key], {});\n",
              "          if (!dataTable) return;\n",
              "\n",
              "          const docLinkHtml = 'Like what you see? Visit the ' +\n",
              "            '<a target=\"_blank\" href=https://colab.research.google.com/notebooks/data_table.ipynb>data table notebook</a>'\n",
              "            + ' to learn more about interactive tables.';\n",
              "          element.innerHTML = '';\n",
              "          dataTable['output_type'] = 'display_data';\n",
              "          await google.colab.output.renderOutput(dataTable, element);\n",
              "          const docLink = document.createElement('div');\n",
              "          docLink.innerHTML = docLinkHtml;\n",
              "          element.appendChild(docLink);\n",
              "        }\n",
              "      </script>\n",
              "    </div>\n",
              "  </div>\n",
              "  "
            ]
          },
          "metadata": {},
          "execution_count": 87
        }
      ],
      "source": [
        "data = pd.read_csv('https://raw.githubusercontent.com/arminnorouzi/ML-developed_course/main/Data/Engine_NOx.csv')\n",
        "data.head()"
      ]
    },
    {
      "cell_type": "markdown",
      "metadata": {
        "id": "xZ393vn-FscE"
      },
      "source": [
        "**Plot the data - a feature is NOx**\n",
        "\n"
      ]
    },
    {
      "cell_type": "code",
      "execution_count": null,
      "metadata": {
        "colab": {
          "base_uri": "https://localhost:8080/",
          "height": 279
        },
        "id": "jLzYmBzmFscE",
        "outputId": "42781008-0b3d-4eff-c18b-3723ea5ba212"
      },
      "outputs": [
        {
          "output_type": "display_data",
          "data": {
            "text/plain": [
              "<Figure size 432x288 with 1 Axes>"
            ],
            "image/png": "[encoded data removed]"
          },
          "metadata": {
            "needs_background": "light"
          }
        }
      ],
      "source": [
        "plt.scatter(data['Load [ft.lb]'], data['NOx [ppm]'],  color='blue')\n",
        "plt.xlabel(\"Load [ft.lb]\")\n",
        "plt.ylabel(\"NOx [ppm]\")\n",
        "plt.show()"
      ]
    },
    {
      "cell_type": "markdown",
      "metadata": {
        "id": "9FOdv3tdFscE"
      },
      "source": [
        "**Split the data into training 80% and test 20%**\n",
        "\n"
      ]
    },
    {
      "cell_type": "code",
      "execution_count": null,
      "metadata": {
        "id": "fW72uUGQFscE"
      },
      "outputs": [],
      "source": [
        "cdf = data[['Load [ft.lb]','Engine speed [rpm]','mf [mg/stroke]','Pr [PSI]', 'NOx [ppm]']]\n",
        "\n",
        "msk = np.random.rand(len(data)) < 0.8\n",
        "train = cdf[msk]\n",
        "test = cdf[~msk]"
      ]
    },
    {
      "cell_type": "markdown",
      "metadata": {
        "id": "hyT-3n8aFscE"
      },
      "source": [
        "**plot training and test data**\n",
        "\n"
      ]
    },
    {
      "cell_type": "code",
      "execution_count": null,
      "metadata": {
        "colab": {
          "base_uri": "https://localhost:8080/",
          "height": 279
        },
        "id": "wHlmvbuWFscE",
        "outputId": "2afcf1d1-a77f-4686-8c53-149f2277f667"
      },
      "outputs": [
        {
          "output_type": "display_data",
          "data": {
            "text/plain": [
              "<Figure size 432x288 with 1 Axes>"
            ],
            "image/png": "[encoded data removed]"
          },
          "metadata": {
            "needs_background": "light"
          }
        }
      ],
      "source": [
        "plt.scatter(train['Load [ft.lb]'], train['NOx [ppm]'],  color='blue')\n",
        "plt.scatter(test['Load [ft.lb]'], test['NOx [ppm]'],  color='red')\n",
        "plt.xlabel(\"Load [ft.lb]\")\n",
        "plt.ylabel(\"NOx [ppm]\")\n",
        "plt.show()"
      ]
    },
    {
      "cell_type": "markdown",
      "metadata": {
        "id": "jwHpFJsAFscE"
      },
      "source": [
        "**NOx first attempt: try 4 clusters, cluster based on load, speed, and NOx**\n",
        "\n"
      ]
    },
    {
      "cell_type": "markdown",
      "metadata": {
        "id": "EIH1nfugFscE"
      },
      "source": [
        "-   Prepare the data for sklearn\n",
        "\n"
      ]
    },
    {
      "cell_type": "code",
      "execution_count": null,
      "metadata": {
        "id": "-Th4kjIVFscE"
      },
      "outputs": [],
      "source": [
        "from sklearn import preprocessing\n",
        "\n",
        "train_x = np.asanyarray(train[['Load [ft.lb]','Engine speed [rpm]', 'NOx [ppm]']])\n",
        "test_x = np.asanyarray(test[['Load [ft.lb]','Engine speed [rpm]', 'NOx [ppm]']])\n",
        "\n",
        "min_max_scaler = preprocessing.MinMaxScaler()\n",
        "X_train_minmax = min_max_scaler.fit_transform(train_x)\n",
        "X_test_minmax = min_max_scaler.transform(test_x)"
      ]
    },
    {
      "cell_type": "markdown",
      "metadata": {
        "id": "0n3RRSxVFscF"
      },
      "source": [
        "**NOx first attempt: run k-means**\n",
        "\n"
      ]
    },
    {
      "cell_type": "code",
      "execution_count": null,
      "metadata": {
        "colab": {
          "base_uri": "https://localhost:8080/"
        },
        "id": "uI4rD3XeFscF",
        "outputId": "445e2240-d48a-44a2-91b5-a94855a9166c"
      },
      "outputs": [
        {
          "output_type": "execute_result",
          "data": {
            "text/plain": [
              "KMeans(n_clusters=4, n_init=12)"
            ]
          },
          "metadata": {},
          "execution_count": 92
        }
      ],
      "source": [
        "from sklearn.cluster import KMeans \n",
        "k_means = KMeans(init = \"k-means++\", n_clusters = 4, n_init = 12)\n",
        "k_means.fit(train_x)"
      ]
    },
    {
      "cell_type": "markdown",
      "metadata": {
        "id": "edbvtq0cFscF"
      },
      "source": [
        "-   look at the labels\n",
        "\n"
      ]
    },
    {
      "cell_type": "code",
      "execution_count": null,
      "metadata": {
        "colab": {
          "base_uri": "https://localhost:8080/"
        },
        "id": "rpyc8krCFscF",
        "outputId": "2148b52c-6cb8-4f43-a8ed-00ce419e1f11"
      },
      "outputs": [
        {
          "output_type": "execute_result",
          "data": {
            "text/plain": [
              "array([2, 2, 2, 2, 2, 2, 2, 2, 2, 2, 1, 1, 1, 1, 1, 1, 1, 1, 1, 1, 1, 3,\n",
              "       3, 3, 3, 3, 3, 3, 3, 0, 0, 0, 0, 0, 0, 0, 0, 0, 0, 0, 0, 2, 2, 2,\n",
              "       2, 2, 2, 1, 1, 1, 1], dtype=int32)"
            ]
          },
          "metadata": {},
          "execution_count": 93
        }
      ],
      "source": [
        "k_means_labels = k_means.labels_\n",
        "k_means_labels"
      ]
    },
    {
      "cell_type": "markdown",
      "metadata": {
        "id": "6bgV7FDuFscF"
      },
      "source": [
        "-   look at the center of the clusters\n",
        "\n"
      ]
    },
    {
      "cell_type": "code",
      "execution_count": null,
      "metadata": {
        "colab": {
          "base_uri": "https://localhost:8080/"
        },
        "id": "_xa4YBfQFscF",
        "outputId": "fd3c3be1-e9be-4dc2-b028-a1e9242f7e54"
      },
      "outputs": [
        {
          "output_type": "execute_result",
          "data": {
            "text/plain": [
              "array([[ 125.        , 2378.40506467,  146.17695426],\n",
              "       [ 168.33333333, 1756.4737116 ,  221.55658422],\n",
              "       [ 220.3125    , 1509.57869138,  300.23835143],\n",
              "       [ 178.125     , 2006.42717188,  185.03308854]])"
            ]
          },
          "metadata": {},
          "execution_count": 94
        }
      ],
      "source": [
        "k_means_cluster_centers = k_means.cluster_centers_\n",
        "k_means_cluster_centers"
      ]
    },
    {
      "cell_type": "markdown",
      "metadata": {
        "id": "r852JpebFscF"
      },
      "source": [
        "**NOx first attempt: plot the training data and cluster**\n",
        "\n"
      ]
    },
    {
      "cell_type": "code",
      "execution_count": null,
      "metadata": {
        "colab": {
          "base_uri": "https://localhost:8080/",
          "height": 351
        },
        "id": "kwB2786NFscF",
        "outputId": "065cb315-e727-46e8-868b-9a937d62edd5"
      },
      "outputs": [
        {
          "output_type": "stream",
          "name": "stderr",
          "text": [
            "/usr/local/lib/python3.7/dist-packages/ipykernel_launcher.py:4: DeprecationWarning: `np.float` is a deprecated alias for the builtin `float`. To silence this warning, use `float` by itself. Doing this will not modify any behavior and is safe. If you specifically wanted the numpy scalar type, use `np.float64` here.\n",
            "Deprecated in NumPy 1.20; for more details and guidance: https://numpy.org/devdocs/release/1.20.0-notes.html#deprecations\n",
            "  after removing the cwd from sys.path.\n"
          ]
        },
        {
          "output_type": "display_data",
          "data": {
            "text/plain": [
              "<Figure size 432x288 with 1 Axes>"
            ],
            "image/png": "[encoded data removed]"
          },
          "metadata": {
            "needs_background": "light"
          }
        }
      ],
      "source": [
        "X = train_x\n",
        "\n",
        "area = 0.00001*np.pi * ( X[:, 1])**2  \n",
        "plt.scatter(train['Load [ft.lb]'], train['NOx [ppm]'], s=area, c=k_means_labels.astype(np.float), alpha=0.5)\n",
        "plt.xlabel(\"Load [ft.lb]\")\n",
        "plt.ylabel(\"NOx [ppm]\")\n",
        "\n",
        "plt.show()"
      ]
    },
    {
      "cell_type": "markdown",
      "metadata": {
        "id": "r5jCQKP_FscF"
      },
      "source": [
        "**NOx second attempt: try 4 clusters, cluster based on load, speed, injected fuel amount, common pressure and NOx**\n",
        "\n"
      ]
    },
    {
      "cell_type": "markdown",
      "metadata": {
        "id": "5AqRbRHjFscF"
      },
      "source": [
        "-   now have 4 features\n",
        "\n"
      ]
    },
    {
      "cell_type": "code",
      "execution_count": null,
      "metadata": {
        "colab": {
          "base_uri": "https://localhost:8080/"
        },
        "id": "lp-USmnAFscF",
        "outputId": "bc477978-98c0-4262-d8c2-87d09eee329f"
      },
      "outputs": [
        {
          "output_type": "execute_result",
          "data": {
            "text/plain": [
              "array([0, 0, 3, 3, 3, 2, 2, 2, 2, 2, 1, 1, 1, 1, 0, 0, 3, 3, 3, 3, 3, 1,\n",
              "       1, 1, 0, 3, 3, 0, 0, 1, 1, 1, 1, 0, 0, 1, 1, 1, 1, 1, 1, 0, 0, 3,\n",
              "       3, 2, 2, 1, 1, 3, 3], dtype=int32)"
            ]
          },
          "metadata": {},
          "execution_count": 96
        }
      ],
      "source": [
        "train_x = np.asanyarray(train[['Load [ft.lb]','Engine speed [rpm]','mf [mg/stroke]','Pr [PSI]', 'NOx [ppm]']])\n",
        "test_x = np.asanyarray(test[['Load [ft.lb]','Engine speed [rpm]','mf [mg/stroke]','Pr [PSI]', 'NOx [ppm]']])\n",
        "\n",
        "\n",
        "min_max_scaler = preprocessing.MinMaxScaler()\n",
        "X_train_minmax = min_max_scaler.fit_transform(train_x)\n",
        "X_test_minmax = min_max_scaler.transform(test_x)\n",
        "\n",
        "k_means = KMeans(init = \"k-means++\", n_clusters = 4, n_init = 12)\n",
        "k_means.fit(train_x)\n",
        "\n",
        "k_means_labels = k_means.labels_\n",
        "k_means_labels"
      ]
    },
    {
      "cell_type": "markdown",
      "metadata": {
        "id": "UIwK8JLaFscG"
      },
      "source": [
        "**NOx second attempt: plot the training data and cluster**\n",
        "\n"
      ]
    },
    {
      "cell_type": "code",
      "execution_count": null,
      "metadata": {
        "colab": {
          "base_uri": "https://localhost:8080/",
          "height": 351
        },
        "id": "CzT0zYb7FscG",
        "outputId": "d82b22a6-5c0c-43e4-a81b-454ee5aec821"
      },
      "outputs": [
        {
          "output_type": "stream",
          "name": "stderr",
          "text": [
            "/usr/local/lib/python3.7/dist-packages/ipykernel_launcher.py:4: DeprecationWarning: `np.float` is a deprecated alias for the builtin `float`. To silence this warning, use `float` by itself. Doing this will not modify any behavior and is safe. If you specifically wanted the numpy scalar type, use `np.float64` here.\n",
            "Deprecated in NumPy 1.20; for more details and guidance: https://numpy.org/devdocs/release/1.20.0-notes.html#deprecations\n",
            "  after removing the cwd from sys.path.\n"
          ]
        },
        {
          "output_type": "display_data",
          "data": {
            "text/plain": [
              "<Figure size 432x288 with 1 Axes>"
            ],
            "image/png": "[encoded data removed]"
          },
          "metadata": {
            "needs_background": "light"
          }
        }
      ],
      "source": [
        "X = train_x\n",
        "\n",
        "area = 0.00001*np.pi * ( X[:, 1])**2  \n",
        "plt.scatter(train['Load [ft.lb]'], train['NOx [ppm]'], s=area, c=k_means_labels.astype(np.float), alpha=0.5)\n",
        "plt.xlabel(\"Load [ft.lb]\")\n",
        "plt.ylabel(\"NOx [ppm]\")\n",
        "\n",
        "plt.show()"
      ]
    },
    {
      "cell_type": "markdown",
      "metadata": {
        "id": "WCnJFuSrFscG"
      },
      "source": [
        "**Find the best value of k**\n",
        "\n"
      ]
    },
    {
      "cell_type": "markdown",
      "metadata": {
        "id": "z_923QS9FscG"
      },
      "source": [
        "-   try several cases to find the best number for K and plot\n",
        "-   **Inertia:** Sum of squared distances of samples to their closest cluster center.\n",
        "\n"
      ]
    },
    {
      "cell_type": "code",
      "execution_count": null,
      "metadata": {
        "colab": {
          "base_uri": "https://localhost:8080/",
          "height": 284
        },
        "id": "-Fk5FsU-FscG",
        "outputId": "52cd217f-d4dd-4b39-e1f6-58151e1a314c"
      },
      "outputs": [
        {
          "output_type": "display_data",
          "data": {
            "text/plain": [
              "<Figure size 720x288 with 1 Axes>"
            ],
            "image/png": "[encoded data removed]"
          },
          "metadata": {
            "needs_background": "light"
          }
        }
      ],
      "source": [
        "inertia_save = []\n",
        "for i in range(20):\n",
        "    clusterNum = i + 1\n",
        "    k_means = KMeans(init = \"k-means++\", n_clusters = clusterNum, n_init = 12)\n",
        "    k_means.fit(X)\n",
        "    a = k_means.inertia_\n",
        "    inertia_save.append(a)\n",
        "\n",
        "plt.figure(1, figsize=(10, 4))\n",
        "plt.plot(inertia_save,'-o')\n",
        "plt.plot(6,inertia_save[6],'-o', markersize=12)\n",
        "plt.ylabel('Inertia', fontsize=18)\n",
        "plt.xlabel('K in K-means', fontsize=16)\n",
        "plt.xticks(np.arange(0, 20, 2))\n",
        "plt.yscale('log')"
      ]
    },
    {
      "cell_type": "markdown",
      "metadata": {
        "id": "ZVFEZwUTFscG"
      },
      "source": [
        "## References\n",
        "\n",
        "[1] Géron, Aurélien. Hands-on machine learning with Scikit-Learn, Keras, and TensorFlow: Concepts, tools, and techniques to build intelligent systems. \" O'Reilly Media, Inc.\", 2019.\n",
        "\n",
        "[2] https://towardsdatascience.com/understanding-the-bias-variance-tradeoff-165e6942b229\n",
        "\n",
        "[3] https://towardsdatascience.com/what-is-feature-engineering-importance-tools-and-techniques-for-machine-learning-2080b0269f10#:~:text=Feature%20engineering%20is%20the%20process,design%20and%20train%20better%20features.\n"
      ]
    }
  ],
  "metadata": {
    "colab": {
      "provenance": [],
      "toc_visible": true,
      "include_colab_link": true
    },
    "kernelspec": {
      "display_name": "Python 3",
      "language": "python",
      "name": "python3"
    },
    "language_info": {
      "codemirror_mode": {
        "name": "ipython",
        "version": 3
      },
      "file_extension": ".py",
      "mimetype": "text/x-python",
      "name": "python",
      "nbconvert_exporter": "python",
      "pygments_lexer": "ipython3",
      "version": "3.8.5"
    },
    "org": null
  },
  "nbformat": 4,
  "nbformat_minor": 0
}